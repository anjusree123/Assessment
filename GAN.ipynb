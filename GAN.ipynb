{
 "cells": [
  {
   "cell_type": "code",
   "execution_count": 32,
   "id": "25618893",
   "metadata": {},
   "outputs": [],
   "source": [
    "import tensorflow as tf\n",
    "import keras\n",
    "import numpy as np\n",
    "import matplotlib.pyplot as plt\n",
    "from keras.layers import Reshape,Input,Dense,Flatten, BatchNormalization\n",
    "from keras.models import Model,Sequential\n",
    "from keras.optimizers import Adam\n",
    "from keras.layers import LeakyReLU"
   ]
  },
  {
   "cell_type": "code",
   "execution_count": 29,
   "id": "d6f82f17",
   "metadata": {},
   "outputs": [],
   "source": [
    "from keras.datasets import mnist"
   ]
  },
  {
   "cell_type": "code",
   "execution_count": 43,
   "id": "e924fdf2",
   "metadata": {},
   "outputs": [],
   "source": [
    "import gzip\n",
    "import sys\n",
    "import pickle as cPickle\n",
    "f = gzip.open('/Users/s5284664/Downloads/mnist.pkl.gz', 'rb')\n",
    "if sys.version_info < (3,):\n",
    "    data = cPickle.load(f)\n",
    "else:\n",
    "    data = cPickle.load(f, encoding='bytes')\n",
    "f.close()\n"
   ]
  },
  {
   "cell_type": "code",
   "execution_count": 44,
   "id": "f50c8238",
   "metadata": {},
   "outputs": [],
   "source": [
    "img_row=28\n",
    "img_cols=28\n",
    "channel=1\n",
    "img_shape=(img_row,img_cols,channel)"
   ]
  },
  {
   "cell_type": "code",
   "execution_count": 45,
   "id": "522395b1",
   "metadata": {},
   "outputs": [],
   "source": [
    "#Dense layers are used for generator\n",
    "def generator1():\n",
    "    noise_shape=(100,)\n",
    "    model=Sequential()\n",
    "    model.add(Dense(256,input_shape=noise_shape))\n",
    "    model.add(LeakyReLU(alpha=0.2))\n",
    "    model.add(BatchNormalization(momentum=0.8))\n",
    "    model.add(Dense(512))\n",
    "    model.add(LeakyReLU(alpha=0.2))\n",
    "    model.add(BatchNormalization(momentum=0.8))\n",
    "    model.add(Dense(1024))\n",
    "    model.add(LeakyReLU(alpha=0.2))\n",
    "    model.add(BatchNormalization(momentum=0.8))\n",
    "    model.add(Dense(np.prod(img_shape),activation='tanh'))\n",
    "    model.add(Reshape(img_shape))\n",
    "    model.summary()\n",
    "    noise=Input(shape=noise_shape)\n",
    "    img=model(noise)\n",
    "    return Model(noise,img)"
   ]
  },
  {
   "cell_type": "code",
   "execution_count": 46,
   "id": "e1ce9fcd",
   "metadata": {},
   "outputs": [],
   "source": [
    "def discriminator():\n",
    "    model=Sequential()\n",
    "    model.add(Flatten(input_shape=img_shape))\n",
    "    model.add(Dense(512))\n",
    "    model.add(LeakyReLU(alpha=0.2))\n",
    "    model.add(Dense(256))\n",
    "    model.add(LeakyReLU(alpha=0.2))\n",
    "    model.add(Dense(1,activation='sigmoid'))\n",
    "    model.summary()\n",
    "    img=Input(shape=img_shape)\n",
    "    validity=model(img)\n",
    "    return Model(img,validity)\n",
    "   "
   ]
  },
  {
   "cell_type": "code",
   "execution_count": 55,
   "id": "e0f8fdef",
   "metadata": {},
   "outputs": [],
   "source": [
    "def train(epochs,batch_size=128,save_interval=50):\n",
    "    (x_train,_),(_,_)=data\n",
    "    x_train=(x_train.astype(np.float32)-127.5)/127.5\n",
    "    x_train=np.expand_dims(x_train,axis=3)\n",
    "    half_batch=int(batch_size/2)\n",
    "    for epoch in range(epochs):\n",
    "        idx=np.random.randint(0,x_train.shape[0],half_batch)\n",
    "        imgs=x_train[idx]\n",
    "        \n",
    "        #training descriminator\n",
    "        noise=np.random.normal(0,1,(half_batch,100))\n",
    "        gen_imgs=generator.predict(noise)\n",
    "        d_loss_real=descriminator.train_on_batch(gen_imgs,np.ones(half_batch,1))\n",
    "        d_loss_fake=descriminator.train_on_batch(gen_imgs,np.zeros(half_batch,1))\n",
    "        d_loss=0.5*np.add(d-loss_real,d_loss_fake)\n",
    "        \n",
    "        \n",
    "        #training generator\n",
    "        noise=np.random.normal(0,1,(half_batch,100))\n",
    "        valid_y=np.array([1]*batch_size)\n",
    "        g_loss=combined.train_on_batch(noise,valid_y)\n",
    "        print(\"%d[D loss:%f,acc.:%.2f%%][G loss:%f]\"%(epoch,d_loss[0],100*d_loss[1],g_loss[0]))\n",
    "        if epoch% save_interval==0:\n",
    "            save_imgs(epoch)"
   ]
  },
  {
   "cell_type": "code",
   "execution_count": 56,
   "id": "51793a01",
   "metadata": {},
   "outputs": [],
   "source": [
    "def save_imgs(epoch):\n",
    "    r,c=5,5\n",
    "    noise=np.random.normal(0,1,(r*c,100))\n",
    "    gen_imgs=generator.predict(noise)\n",
    "    gen_imgs=0.5*gen_imgs+0.5\n",
    "    fig,axs=plt.subplot(r,c)\n",
    "    cnt=0\n",
    "    for i in range(r):\n",
    "        for i in range(c):\n",
    "            axs[i,j].imshow(gen_imgs[cnt,:,:,0],cmap='gray')\n",
    "            axs[i,j].axis('off')\n",
    "            cnt+=1\n",
    "    fig.savefig(\"images/mnist_%d.png\"% epoch)\n",
    "    plt.close()"
   ]
  },
  {
   "cell_type": "code",
   "execution_count": 57,
   "id": "40bfd2ce",
   "metadata": {},
   "outputs": [
    {
     "name": "stdout",
     "output_type": "stream",
     "text": [
      "Model: \"sequential_8\"\n",
      "_________________________________________________________________\n",
      " Layer (type)                Output Shape              Param #   \n",
      "=================================================================\n",
      " flatten_4 (Flatten)         (None, 784)               0         \n",
      "                                                                 \n",
      " dense_28 (Dense)            (None, 512)               401920    \n",
      "                                                                 \n",
      " leaky_re_lu_20 (LeakyReLU)  (None, 512)               0         \n",
      "                                                                 \n",
      " dense_29 (Dense)            (None, 256)               131328    \n",
      "                                                                 \n",
      " leaky_re_lu_21 (LeakyReLU)  (None, 256)               0         \n",
      "                                                                 \n",
      " dense_30 (Dense)            (None, 1)                 257       \n",
      "                                                                 \n",
      "=================================================================\n",
      "Total params: 533,505\n",
      "Trainable params: 533,505\n",
      "Non-trainable params: 0\n",
      "_________________________________________________________________\n"
     ]
    }
   ],
   "source": [
    "optimizer=Adam(0.0002,0.5)\n",
    "descriminator=discriminator()\n",
    "descriminator.compile(loss=\"binary_crossentropy\", optimizer=optimizer,metrics=['accuracy'])"
   ]
  },
  {
   "cell_type": "code",
   "execution_count": 58,
   "id": "5199fec2",
   "metadata": {},
   "outputs": [
    {
     "name": "stdout",
     "output_type": "stream",
     "text": [
      "Model: \"sequential_9\"\n",
      "_________________________________________________________________\n",
      " Layer (type)                Output Shape              Param #   \n",
      "=================================================================\n",
      " dense_31 (Dense)            (None, 256)               25856     \n",
      "                                                                 \n",
      " leaky_re_lu_22 (LeakyReLU)  (None, 256)               0         \n",
      "                                                                 \n",
      " batch_normalization_12 (Bat  (None, 256)              1024      \n",
      " chNormalization)                                                \n",
      "                                                                 \n",
      " dense_32 (Dense)            (None, 512)               131584    \n",
      "                                                                 \n",
      " leaky_re_lu_23 (LeakyReLU)  (None, 512)               0         \n",
      "                                                                 \n",
      " batch_normalization_13 (Bat  (None, 512)              2048      \n",
      " chNormalization)                                                \n",
      "                                                                 \n",
      " dense_33 (Dense)            (None, 1024)              525312    \n",
      "                                                                 \n",
      " leaky_re_lu_24 (LeakyReLU)  (None, 1024)              0         \n",
      "                                                                 \n",
      " batch_normalization_14 (Bat  (None, 1024)             4096      \n",
      " chNormalization)                                                \n",
      "                                                                 \n",
      " dense_34 (Dense)            (None, 784)               803600    \n",
      "                                                                 \n",
      " reshape_4 (Reshape)         (None, 28, 28, 1)         0         \n",
      "                                                                 \n",
      "=================================================================\n",
      "Total params: 1,493,520\n",
      "Trainable params: 1,489,936\n",
      "Non-trainable params: 3,584\n",
      "_________________________________________________________________\n",
      "1/1 [==============================] - 0s 111ms/step\n"
     ]
    },
    {
     "ename": "TypeError",
     "evalue": "Cannot interpret '1' as a data type",
     "output_type": "error",
     "traceback": [
      "\u001b[0;31m---------------------------------------------------------------------------\u001b[0m",
      "\u001b[0;31mTypeError\u001b[0m                                 Traceback (most recent call last)",
      "Cell \u001b[0;32mIn[58], line 9\u001b[0m\n\u001b[1;32m      7\u001b[0m combined\u001b[38;5;241m=\u001b[39mModel(z,valid)\n\u001b[1;32m      8\u001b[0m combined\u001b[38;5;241m.\u001b[39mcompile(loss\u001b[38;5;241m=\u001b[39m\u001b[38;5;124m'\u001b[39m\u001b[38;5;124mbinary_crossentropy\u001b[39m\u001b[38;5;124m'\u001b[39m,optimizer\u001b[38;5;241m=\u001b[39moptimizer)\n\u001b[0;32m----> 9\u001b[0m \u001b[43mtrain\u001b[49m\u001b[43m(\u001b[49m\u001b[43mepochs\u001b[49m\u001b[38;5;241;43m=\u001b[39;49m\u001b[38;5;241;43m10\u001b[39;49m\u001b[43m,\u001b[49m\u001b[43mbatch_size\u001b[49m\u001b[38;5;241;43m=\u001b[39;49m\u001b[38;5;241;43m12\u001b[39;49m\u001b[43m,\u001b[49m\u001b[43msave_interval\u001b[49m\u001b[38;5;241;43m=\u001b[39;49m\u001b[38;5;241;43m10\u001b[39;49m\u001b[43m)\u001b[49m\n\u001b[1;32m     10\u001b[0m generator\u001b[38;5;241m.\u001b[39msave(\u001b[38;5;124m'\u001b[39m\u001b[38;5;124mgenerator_model_test.h5\u001b[39m\u001b[38;5;124m'\u001b[39m)\n",
      "Cell \u001b[0;32mIn[55], line 13\u001b[0m, in \u001b[0;36mtrain\u001b[0;34m(epochs, batch_size, save_interval)\u001b[0m\n\u001b[1;32m     11\u001b[0m noise\u001b[38;5;241m=\u001b[39mnp\u001b[38;5;241m.\u001b[39mrandom\u001b[38;5;241m.\u001b[39mnormal(\u001b[38;5;241m0\u001b[39m,\u001b[38;5;241m1\u001b[39m,(half_batch,\u001b[38;5;241m100\u001b[39m))\n\u001b[1;32m     12\u001b[0m gen_imgs\u001b[38;5;241m=\u001b[39mgenerator\u001b[38;5;241m.\u001b[39mpredict(noise)\n\u001b[0;32m---> 13\u001b[0m d_loss_real\u001b[38;5;241m=\u001b[39mdescriminator\u001b[38;5;241m.\u001b[39mtrain_on_batch(gen_imgs,\u001b[43mnp\u001b[49m\u001b[38;5;241;43m.\u001b[39;49m\u001b[43mones\u001b[49m\u001b[43m(\u001b[49m\u001b[43mhalf_batch\u001b[49m\u001b[43m,\u001b[49m\u001b[38;5;241;43m1\u001b[39;49m\u001b[43m)\u001b[49m)\n\u001b[1;32m     14\u001b[0m d_loss_fake\u001b[38;5;241m=\u001b[39mdescriminator\u001b[38;5;241m.\u001b[39mtrain_on_batch(gen_imgs,np\u001b[38;5;241m.\u001b[39mzeros(half_batch,\u001b[38;5;241m1\u001b[39m))\n\u001b[1;32m     15\u001b[0m d_loss\u001b[38;5;241m=\u001b[39m\u001b[38;5;241m0.5\u001b[39m\u001b[38;5;241m*\u001b[39mnp\u001b[38;5;241m.\u001b[39madd(d\u001b[38;5;241m-\u001b[39mloss_real,d_loss_fake)\n",
      "File \u001b[0;32m/Library/Frameworks/Python.framework/Versions/3.10/lib/python3.10/site-packages/numpy/core/numeric.py:204\u001b[0m, in \u001b[0;36mones\u001b[0;34m(shape, dtype, order, like)\u001b[0m\n\u001b[1;32m    201\u001b[0m \u001b[38;5;28;01mif\u001b[39;00m like \u001b[38;5;129;01mis\u001b[39;00m \u001b[38;5;129;01mnot\u001b[39;00m \u001b[38;5;28;01mNone\u001b[39;00m:\n\u001b[1;32m    202\u001b[0m     \u001b[38;5;28;01mreturn\u001b[39;00m _ones_with_like(shape, dtype\u001b[38;5;241m=\u001b[39mdtype, order\u001b[38;5;241m=\u001b[39morder, like\u001b[38;5;241m=\u001b[39mlike)\n\u001b[0;32m--> 204\u001b[0m a \u001b[38;5;241m=\u001b[39m \u001b[43mempty\u001b[49m\u001b[43m(\u001b[49m\u001b[43mshape\u001b[49m\u001b[43m,\u001b[49m\u001b[43m \u001b[49m\u001b[43mdtype\u001b[49m\u001b[43m,\u001b[49m\u001b[43m \u001b[49m\u001b[43morder\u001b[49m\u001b[43m)\u001b[49m\n\u001b[1;32m    205\u001b[0m multiarray\u001b[38;5;241m.\u001b[39mcopyto(a, \u001b[38;5;241m1\u001b[39m, casting\u001b[38;5;241m=\u001b[39m\u001b[38;5;124m'\u001b[39m\u001b[38;5;124munsafe\u001b[39m\u001b[38;5;124m'\u001b[39m)\n\u001b[1;32m    206\u001b[0m \u001b[38;5;28;01mreturn\u001b[39;00m a\n",
      "\u001b[0;31mTypeError\u001b[0m: Cannot interpret '1' as a data type"
     ]
    }
   ],
   "source": [
    "generator=generator1()\n",
    "generator.compile(loss=\"binary_crossentropy\", optimizer=optimizer)\n",
    "z=Input(shape=(100,))\n",
    "img=generator(z)\n",
    "descriminator.trainable=False\n",
    "valid=descriminator(img)\n",
    "combined=Model(z,valid)\n",
    "combined.compile(loss='binary_crossentropy',optimizer=optimizer)\n",
    "train(epochs=10,batch_size=12,save_interval=10)\n",
    "generator.save('generator_model_test.h5')"
   ]
  },
  {
   "cell_type": "code",
   "execution_count": null,
   "id": "9c7dd11a",
   "metadata": {},
   "outputs": [],
   "source": []
  }
 ],
 "metadata": {
  "kernelspec": {
   "display_name": "Python 3 (ipykernel)",
   "language": "python",
   "name": "python3"
  },
  "language_info": {
   "codemirror_mode": {
    "name": "ipython",
    "version": 3
   },
   "file_extension": ".py",
   "mimetype": "text/x-python",
   "name": "python",
   "nbconvert_exporter": "python",
   "pygments_lexer": "ipython3",
   "version": "3.10.11"
  }
 },
 "nbformat": 4,
 "nbformat_minor": 5
}
