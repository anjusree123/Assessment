{
  "nbformat": 4,
  "nbformat_minor": 0,
  "metadata": {
    "colab": {
      "provenance": [],
      "authorship_tag": "ABX9TyO3Ki6ELjaa2Z03TipTGYyU",
      "include_colab_link": true
    },
    "kernelspec": {
      "name": "python3",
      "display_name": "Python 3"
    },
    "language_info": {
      "name": "python"
    }
  },
  "cells": [
    {
      "cell_type": "markdown",
      "metadata": {
        "id": "view-in-github",
        "colab_type": "text"
      },
      "source": [
        "<a href=\"https://colab.research.google.com/github/anjusree123/TensorFlow/blob/main/Freezing_layer.ipynb\" target=\"_parent\"><img src=\"https://colab.research.google.com/assets/colab-badge.svg\" alt=\"Open In Colab\"/></a>"
      ]
    },
    {
      "cell_type": "code",
      "execution_count": 39,
      "metadata": {
        "id": "Nmz9bDzI65fe"
      },
      "outputs": [],
      "source": [
        "import numpy as np\n",
        "import matplotlib as plt\n",
        "from matplotlib.pyplot import figure"
      ]
    },
    {
      "cell_type": "code",
      "source": [
        "from tensorflow.keras.models import Sequential\n",
        "from tensorflow.keras import layers\n",
        "model= Sequential([layers.Dense(4,input_shape=(4,),activation='relu',kernel_initializer='random_uniform',bias_initializer='ones'),\n",
        "                   layers.Dense(2,activation='relu',kernel_initializer='lecun_normal',bias_initializer='ones'),\n",
        "                   layers.Dense(4,activation='softmax')])"
      ],
      "metadata": {
        "id": "E0BOAIhC7Rr8"
      },
      "execution_count": null,
      "outputs": []
    },
    {
      "cell_type": "code",
      "source": [
        "model.summary()"
      ],
      "metadata": {
        "colab": {
          "base_uri": "https://localhost:8080/"
        },
        "id": "pVR_CpzKB0JR",
        "outputId": "a326bb2a-17ff-4ce7-ef80-e18475a6e253"
      },
      "execution_count": null,
      "outputs": [
        {
          "output_type": "stream",
          "name": "stdout",
          "text": [
            "Model: \"sequential\"\n",
            "_________________________________________________________________\n",
            " Layer (type)                Output Shape              Param #   \n",
            "=================================================================\n",
            " dense (Dense)               (None, 4)                 20        \n",
            "                                                                 \n",
            " dense_1 (Dense)             (None, 2)                 10        \n",
            "                                                                 \n",
            " dense_2 (Dense)             (None, 4)                 12        \n",
            "                                                                 \n",
            "=================================================================\n",
            "Total params: 42\n",
            "Trainable params: 42\n",
            "Non-trainable params: 0\n",
            "_________________________________________________________________\n"
          ]
        }
      ]
    },
    {
      "cell_type": "code",
      "source": [
        "def get_weights(model):\n",
        "  return[e.weights[0].numpy() for e in model.layers]\n",
        "def get_biases(model):\n",
        "  return [e.bias.numpy() for e in model.layers]\n",
        "  "
      ],
      "metadata": {
        "id": "o1Xwi43lopog"
      },
      "execution_count": 15,
      "outputs": []
    },
    {
      "cell_type": "code",
      "source": [
        "wo_layers=get_weights(model)\n",
        "bo_layers=get_biases(model)"
      ],
      "metadata": {
        "id": "vZeiR17zCGLX"
      },
      "execution_count": 16,
      "outputs": []
    },
    {
      "cell_type": "code",
      "source": [
        "x_train=np.random.random((100,4))\n",
        "y_train=x_train\n",
        "x_test=np.random.random((20,4))\n",
        "y_test=x_test"
      ],
      "metadata": {
        "id": "jma2NwxmDchC"
      },
      "execution_count": null,
      "outputs": []
    },
    {
      "cell_type": "code",
      "source": [
        "model.compile(optimizer='adam',loss='mae',metrics=['acc'])\n",
        "model.fit(x_train,y_train,epochs=50,verbose=False)"
      ],
      "metadata": {
        "colab": {
          "base_uri": "https://localhost:8080/"
        },
        "id": "rlEVfB0TD8Dw",
        "outputId": "3b2573a1-957e-4a83-e1b1-78347fb5f0ba"
      },
      "execution_count": null,
      "outputs": [
        {
          "output_type": "execute_result",
          "data": {
            "text/plain": [
              "<keras.callbacks.History at 0x7f8cdcbd7ca0>"
            ]
          },
          "metadata": {},
          "execution_count": 8
        }
      ]
    },
    {
      "cell_type": "code",
      "source": [
        "W1_layers=[e.weights[0].numpy() for e in model.layers]\n",
        "b1_layers=[e.bias.numpy() for e in model.layers]"
      ],
      "metadata": {
        "id": "8iovocRekD4G"
      },
      "execution_count": null,
      "outputs": []
    },
    {
      "cell_type": "code",
      "source": [
        "n_trainable_variables=len(model.trainable_variables)\n",
        "n_non_trainable_variables=len(model.non_trainable_variables)"
      ],
      "metadata": {
        "id": "KnfZV-P2pvMx"
      },
      "execution_count": 23,
      "outputs": []
    },
    {
      "cell_type": "code",
      "source": [
        "print(\"\\n Before freezing :\\n \\t Number of trainable variables\",n_trainable_variables,\"\\n number of non trainable variables\",n_non_trainable_variables)"
      ],
      "metadata": {
        "colab": {
          "base_uri": "https://localhost:8080/"
        },
        "id": "VmlgoOm7wnd2",
        "outputId": "a668f985-24e2-4e3b-a88c-6dcf0fb256bd"
      },
      "execution_count": 24,
      "outputs": [
        {
          "output_type": "stream",
          "name": "stdout",
          "text": [
            "\n",
            " Before freezing :\n",
            " \t Number of trainable variables 4 \n",
            " number of non trainable variables 2\n"
          ]
        }
      ]
    },
    {
      "cell_type": "code",
      "source": [
        "model= Sequential([layers.Dense(4,input_shape=(4,),activation='relu',kernel_initializer='random_uniform',bias_initializer='ones',trainable=False),\n",
        "                   layers.Dense(2,activation='relu',kernel_initializer='lecun_normal',bias_initializer='ones'),\n",
        "                   layers.Dense(4,activation='softmax')])"
      ],
      "metadata": {
        "id": "WIIvMNKJwaU5"
      },
      "execution_count": 25,
      "outputs": []
    },
    {
      "cell_type": "code",
      "source": [
        "print(\"\\n Before freezing :\\n \\t Number of trainable variables\",n_trainable_variables,\"\\n number of non trainable variables\",n_non_trainable_variables)"
      ],
      "metadata": {
        "colab": {
          "base_uri": "https://localhost:8080/"
        },
        "id": "sXIRazTUxDEX",
        "outputId": "5cde2f76-0d67-42f0-b679-6755dc0ca803"
      },
      "execution_count": 26,
      "outputs": [
        {
          "output_type": "stream",
          "name": "stdout",
          "text": [
            "\n",
            " Before freezing :\n",
            " \t Number of trainable variables 4 \n",
            " number of non trainable variables 2\n"
          ]
        }
      ]
    },
    {
      "cell_type": "code",
      "source": [
        "wo_layers=get_weights(model)\n",
        "bo_layers=get_biases(model)"
      ],
      "metadata": {
        "id": "AS7xG-VlxU7W"
      },
      "execution_count": 27,
      "outputs": []
    },
    {
      "cell_type": "code",
      "source": [
        "model.compile(optimizer='adam', loss='mse', metrics=['acc'])\n",
        "model.fit(x_train,y_train,epochs=50,verbose=False)"
      ],
      "metadata": {
        "colab": {
          "base_uri": "https://localhost:8080/"
        },
        "id": "IxOYWzjyxYQw",
        "outputId": "0b45fbd5-665c-4c30-e632-c0a5ab2433f3"
      },
      "execution_count": 28,
      "outputs": [
        {
          "output_type": "execute_result",
          "data": {
            "text/plain": [
              "<keras.callbacks.History at 0x7f8cdc1ed790>"
            ]
          },
          "metadata": {},
          "execution_count": 28
        }
      ]
    },
    {
      "cell_type": "code",
      "source": [
        "W1_layers=get_weights(model)\n",
        "b1_layers=get_biases(model)"
      ],
      "metadata": {
        "id": "y9vaMOeGxuY9"
      },
      "execution_count": 30,
      "outputs": []
    },
    {
      "cell_type": "code",
      "source": [
        "print(\"\\n Before freezing :\\n \\t Number of trainable variables\",n_trainable_variables,\"\\n number of non trainable variables\",n_non_trainable_variables)"
      ],
      "metadata": {
        "colab": {
          "base_uri": "https://localhost:8080/"
        },
        "id": "IIAFuQ_kyO9m",
        "outputId": "1adb078d-ab19-4d29-9e6e-cfe6cacfb2ad"
      },
      "execution_count": 31,
      "outputs": [
        {
          "output_type": "stream",
          "name": "stdout",
          "text": [
            "\n",
            " Before freezing :\n",
            " \t Number of trainable variables 4 \n",
            " number of non trainable variables 2\n"
          ]
        }
      ]
    },
    {
      "cell_type": "code",
      "source": [
        "model.layers[1].trainable=False"
      ],
      "metadata": {
        "id": "ZG_hppLCyUXm"
      },
      "execution_count": 32,
      "outputs": []
    },
    {
      "cell_type": "code",
      "source": [
        "model.compile(optimizer='adam', loss='mse', metrics=['acc'])\n",
        "model.fit(x_train,y_train,epochs=50,verbose=False)"
      ],
      "metadata": {
        "colab": {
          "base_uri": "https://localhost:8080/"
        },
        "id": "gSYrKUMAygbY",
        "outputId": "6ce3b621-8781-4b44-d7ea-ea98bfcfcec6"
      },
      "execution_count": 34,
      "outputs": [
        {
          "output_type": "execute_result",
          "data": {
            "text/plain": [
              "<keras.callbacks.History at 0x7f8cd5a56430>"
            ]
          },
          "metadata": {},
          "execution_count": 34
        }
      ]
    },
    {
      "cell_type": "code",
      "source": [
        "print(\"\\n Before freezing :\\n \\t Number of trainable variables\",n_trainable_variables,\"\\n number of non trainable variables\",n_non_trainable_variables)"
      ],
      "metadata": {
        "colab": {
          "base_uri": "https://localhost:8080/"
        },
        "id": "sB8ddhzUyZYN",
        "outputId": "43df6975-2736-455a-dd33-67cdfc71d551"
      },
      "execution_count": 35,
      "outputs": [
        {
          "output_type": "stream",
          "name": "stdout",
          "text": [
            "\n",
            " Before freezing :\n",
            " \t Number of trainable variables 4 \n",
            " number of non trainable variables 2\n"
          ]
        }
      ]
    }
  ]
}