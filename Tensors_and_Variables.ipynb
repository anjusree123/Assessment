{
  "nbformat": 4,
  "nbformat_minor": 0,
  "metadata": {
    "colab": {
      "provenance": [],
      "authorship_tag": "ABX9TyNE5shJcODbMuNYABQKhK8l",
      "include_colab_link": true
    },
    "kernelspec": {
      "name": "python3",
      "display_name": "Python 3"
    },
    "language_info": {
      "name": "python"
    }
  },
  "cells": [
    {
      "cell_type": "markdown",
      "metadata": {
        "id": "view-in-github",
        "colab_type": "text"
      },
      "source": [
        "<a href=\"https://colab.research.google.com/github/anjusree123/TensorFlow/blob/main/Tensors_and_Variables.ipynb\" target=\"_parent\"><img src=\"https://colab.research.google.com/assets/colab-badge.svg\" alt=\"Open In Colab\"/></a>"
      ]
    },
    {
      "cell_type": "code",
      "execution_count": 1,
      "metadata": {
        "id": "ytpEFmVNppPc"
      },
      "outputs": [],
      "source": [
        "import numpy as np\n",
        "import tensorflow as tf"
      ]
    },
    {
      "cell_type": "code",
      "source": [
        "strings= tf.Variable([\"Hello World\"],tf.string)\n",
        "floats=tf.Variable([3.14159,2.71828],tf.float64)\n",
        "ints=tf.Variable([1,2,3],tf.int32)\n",
        "complexs=tf.Variable([25.9-7.39j,1.23-4.91j],tf.complex128)"
      ],
      "metadata": {
        "id": "ql0e40K3px6I"
      },
      "execution_count": 2,
      "outputs": []
    },
    {
      "cell_type": "code",
      "source": [
        "tf.Variable(tf.constant(4.2,shape=(3,3)))"
      ],
      "metadata": {
        "colab": {
          "base_uri": "https://localhost:8080/"
        },
        "id": "ec5wP4H71A-i",
        "outputId": "cee9fab8-9073-4776-fb24-9fbbc5bfc507"
      },
      "execution_count": 3,
      "outputs": [
        {
          "output_type": "execute_result",
          "data": {
            "text/plain": [
              "<tf.Variable 'Variable:0' shape=(3, 3) dtype=float32, numpy=\n",
              "array([[4.2, 4.2, 4.2],\n",
              "       [4.2, 4.2, 4.2],\n",
              "       [4.2, 4.2, 4.2]], dtype=float32)>"
            ]
          },
          "metadata": {},
          "execution_count": 3
        }
      ]
    },
    {
      "cell_type": "code",
      "source": [
        "v=tf.Variable(0.0)\n",
        "w=v+1\n",
        "print(type(w))\n"
      ],
      "metadata": {
        "colab": {
          "base_uri": "https://localhost:8080/"
        },
        "id": "L_lUd5kg1ocx",
        "outputId": "ec640c09-fd95-4d85-8090-0cbcfccf3246"
      },
      "execution_count": 4,
      "outputs": [
        {
          "output_type": "stream",
          "name": "stdout",
          "text": [
            "<class 'tensorflow.python.framework.ops.EagerTensor'>\n"
          ]
        }
      ]
    },
    {
      "cell_type": "code",
      "source": [
        "v.assign_add(1)\n",
        "print(v)"
      ],
      "metadata": {
        "colab": {
          "base_uri": "https://localhost:8080/"
        },
        "id": "tuaYH1Kf14WL",
        "outputId": "03c4ff82-eb20-4cd4-db05-a85fcff9d6b5"
      },
      "execution_count": 5,
      "outputs": [
        {
          "output_type": "stream",
          "name": "stdout",
          "text": [
            "<tf.Variable 'Variable:0' shape=() dtype=float32, numpy=1.0>\n"
          ]
        }
      ]
    },
    {
      "cell_type": "code",
      "source": [
        "v.assign_sub(1)\n",
        "print(v)"
      ],
      "metadata": {
        "colab": {
          "base_uri": "https://localhost:8080/"
        },
        "id": "QHbpuWE_2Htv",
        "outputId": "afe1833c-dafa-43e1-bb0c-d1063f178373"
      },
      "execution_count": 6,
      "outputs": [
        {
          "output_type": "stream",
          "name": "stdout",
          "text": [
            "<tf.Variable 'Variable:0' shape=() dtype=float32, numpy=0.0>\n"
          ]
        }
      ]
    },
    {
      "cell_type": "code",
      "source": [
        "x=tf.constant([[1,2,3],[4,5,6],[7,8,9]])\n",
        "print(x)\n",
        "print(\"dtype:\",x.dtype)\n",
        "print(\"shape:\", x.shape)"
      ],
      "metadata": {
        "colab": {
          "base_uri": "https://localhost:8080/"
        },
        "id": "v8dznFFL2NvY",
        "outputId": "3a768e9e-2302-4cad-ffb7-00258d2b3fc6"
      },
      "execution_count": null,
      "outputs": [
        {
          "output_type": "stream",
          "name": "stdout",
          "text": [
            "tf.Tensor(\n",
            "[[1 2 3]\n",
            " [4 5 6]\n",
            " [7 8 9]], shape=(3, 3), dtype=int32)\n",
            "dtype: <dtype: 'int32'>\n",
            "shape: (3, 3)\n"
          ]
        }
      ]
    },
    {
      "cell_type": "code",
      "source": [
        "x.numpy()"
      ],
      "metadata": {
        "colab": {
          "base_uri": "https://localhost:8080/"
        },
        "id": "QyGR1Bs42udq",
        "outputId": "1aec4010-f47a-4c40-b6ff-2ac2e9e00a85"
      },
      "execution_count": null,
      "outputs": [
        {
          "output_type": "execute_result",
          "data": {
            "text/plain": [
              "array([[1, 2, 3],\n",
              "       [4, 5, 6],\n",
              "       [7, 8, 9]], dtype=int32)"
            ]
          },
          "metadata": {},
          "execution_count": 9
        }
      ]
    },
    {
      "cell_type": "code",
      "source": [
        "x=tf.constant([[1,2,3],[4,5,6],[7,8,9]],dtype=tf.float32)\n",
        "print(x.dtype)"
      ],
      "metadata": {
        "colab": {
          "base_uri": "https://localhost:8080/"
        },
        "id": "KhlVXDas2yqi",
        "outputId": "319c7e90-41d1-4ab6-f42a-fddaaf7e4741"
      },
      "execution_count": null,
      "outputs": [
        {
          "output_type": "stream",
          "name": "stdout",
          "text": [
            "<dtype: 'float32'>\n"
          ]
        }
      ]
    },
    {
      "cell_type": "code",
      "source": [
        "coeffs=np.arange(16)"
      ],
      "metadata": {
        "id": "MO54E0xv3V8n"
      },
      "execution_count": null,
      "outputs": []
    },
    {
      "cell_type": "code",
      "source": [
        "shape1=[8,2]\n",
        "shape2=[4,4]\n",
        "shape3=[2,2,2,2]"
      ],
      "metadata": {
        "id": "1KN3A_2F3hMR"
      },
      "execution_count": null,
      "outputs": []
    },
    {
      "cell_type": "code",
      "source": [
        "a=tf.constant(coeffs,shape=shape1)\n",
        "print(\"\\n a:\\n\", a)\n",
        "b=tf.constant(coeffs,shape=shape2)\n",
        "print(\"\\n b: \\n\", b)\n",
        "c=tf.constant(coeffs,shape=shape3)\n",
        "print(\"\\n c: \\n\", c)"
      ],
      "metadata": {
        "colab": {
          "base_uri": "https://localhost:8080/"
        },
        "id": "m9QFDJCh_a8W",
        "outputId": "4290d804-ff96-45e9-8f54-830aef3b2a68"
      },
      "execution_count": null,
      "outputs": [
        {
          "output_type": "stream",
          "name": "stdout",
          "text": [
            "\n",
            " a:\n",
            " tf.Tensor(\n",
            "[[ 0  1]\n",
            " [ 2  3]\n",
            " [ 4  5]\n",
            " [ 6  7]\n",
            " [ 8  9]\n",
            " [10 11]\n",
            " [12 13]\n",
            " [14 15]], shape=(8, 2), dtype=int64)\n",
            "\n",
            " b: \n",
            " tf.Tensor(\n",
            "[[ 0  1  2  3]\n",
            " [ 4  5  6  7]\n",
            " [ 8  9 10 11]\n",
            " [12 13 14 15]], shape=(4, 4), dtype=int64)\n",
            "\n",
            " c: \n",
            " tf.Tensor(\n",
            "[[[[ 0  1]\n",
            "   [ 2  3]]\n",
            "\n",
            "  [[ 4  5]\n",
            "   [ 6  7]]]\n",
            "\n",
            "\n",
            " [[[ 8  9]\n",
            "   [10 11]]\n",
            "\n",
            "  [[12 13]\n",
            "   [14 15]]]], shape=(2, 2, 2, 2), dtype=int64)\n"
          ]
        }
      ]
    },
    {
      "cell_type": "code",
      "source": [
        "t=tf.constant(np.arange(80),shape=[5,2,8])"
      ],
      "metadata": {
        "id": "Ul7m8pOZAX82"
      },
      "execution_count": 7,
      "outputs": []
    },
    {
      "cell_type": "code",
      "source": [
        "rank=tf.rank(t)"
      ],
      "metadata": {
        "id": "CTvbuduQAybu"
      },
      "execution_count": 8,
      "outputs": []
    },
    {
      "cell_type": "code",
      "source": [
        "print(\"rank\",rank)"
      ],
      "metadata": {
        "colab": {
          "base_uri": "https://localhost:8080/"
        },
        "id": "LxkwtxdiA3m2",
        "outputId": "e9c56f72-a72f-4c7e-fcf8-2d62543ba90e"
      },
      "execution_count": 9,
      "outputs": [
        {
          "output_type": "stream",
          "name": "stdout",
          "text": [
            "rank tf.Tensor(3, shape=(), dtype=int32)\n"
          ]
        }
      ]
    },
    {
      "cell_type": "code",
      "source": [
        "t2=tf.reshape(t,[8,10])"
      ],
      "metadata": {
        "id": "Vdcxx8OQOdqm"
      },
      "execution_count": 10,
      "outputs": []
    },
    {
      "cell_type": "code",
      "source": [
        "print(\"t2.shape\",t2.shape)"
      ],
      "metadata": {
        "colab": {
          "base_uri": "https://localhost:8080/"
        },
        "id": "V1c5sVotOkaa",
        "outputId": "2fd95a69-3d57-4163-b315-01024aad1fe7"
      },
      "execution_count": 11,
      "outputs": [
        {
          "output_type": "stream",
          "name": "stdout",
          "text": [
            "t2.shape (8, 10)\n"
          ]
        }
      ]
    },
    {
      "cell_type": "code",
      "source": [
        "ones=tf.ones(shape=(2,3))\n",
        "zeros=tf.zeros(shape=(2,3))\n",
        "eye=tf.eye(3)\n",
        "tensor7=tf.constant(7.0,shape=[2,2])"
      ],
      "metadata": {
        "id": "4pvDpuC5OyCJ"
      },
      "execution_count": 12,
      "outputs": []
    },
    {
      "cell_type": "code",
      "source": [
        "print(\"\\n Ones: \\n\", ones)\n",
        "print(\"\\n Zeros:\\n\", zeros)\n",
        "print(\"\\n Identity:\\n\", eye)\n",
        "print(\"\\n Tensor filled with 7:\", tensor7)"
      ],
      "metadata": {
        "colab": {
          "base_uri": "https://localhost:8080/"
        },
        "id": "tAixnA4rPXTK",
        "outputId": "923c7c8c-11a8-480d-b8a7-e5f48850e4eb"
      },
      "execution_count": 13,
      "outputs": [
        {
          "output_type": "stream",
          "name": "stdout",
          "text": [
            "\n",
            " Ones: \n",
            " tf.Tensor(\n",
            "[[1. 1. 1.]\n",
            " [1. 1. 1.]], shape=(2, 3), dtype=float32)\n",
            "\n",
            " Zeros:\n",
            " tf.Tensor(\n",
            "[[0. 0. 0.]\n",
            " [0. 0. 0.]], shape=(2, 3), dtype=float32)\n",
            "\n",
            " Identity:\n",
            " tf.Tensor(\n",
            "[[1. 0. 0.]\n",
            " [0. 1. 0.]\n",
            " [0. 0. 1.]], shape=(3, 3), dtype=float32)\n",
            "\n",
            " Tensor filled with 7: tf.Tensor(\n",
            "[[7. 7.]\n",
            " [7. 7.]], shape=(2, 2), dtype=float32)\n"
          ]
        }
      ]
    },
    {
      "cell_type": "code",
      "source": [
        "t1=tf.ones(shape=(2,2))\n",
        "t2=tf.zeros(shape=(2,2))"
      ],
      "metadata": {
        "id": "9HKwK3QOP7Ta"
      },
      "execution_count": 14,
      "outputs": []
    },
    {
      "cell_type": "code",
      "source": [
        "concat0=tf.concat([t1,t2],0)\n",
        "concat1=tf.concat([t1,t2],1)"
      ],
      "metadata": {
        "id": "pNZj5TM-QEfN"
      },
      "execution_count": 16,
      "outputs": []
    },
    {
      "cell_type": "code",
      "source": [
        "print(concat0)\n",
        "print(concat1)"
      ],
      "metadata": {
        "colab": {
          "base_uri": "https://localhost:8080/"
        },
        "id": "S79gzMzxQdei",
        "outputId": "5d5b20e0-3baf-4444-8db2-a38f7a6a09b4"
      },
      "execution_count": 17,
      "outputs": [
        {
          "output_type": "stream",
          "name": "stdout",
          "text": [
            "tf.Tensor(\n",
            "[[1. 1.]\n",
            " [1. 1.]\n",
            " [0. 0.]\n",
            " [0. 0.]], shape=(4, 2), dtype=float32)\n",
            "tf.Tensor(\n",
            "[[1. 1. 0. 0.]\n",
            " [1. 1. 0. 0.]], shape=(2, 4), dtype=float32)\n"
          ]
        }
      ]
    },
    {
      "cell_type": "code",
      "source": [
        "t=tf.constant(np.arange(24),shape=(3,2,4))\n",
        "print(\"\\n shape\",t.shape)"
      ],
      "metadata": {
        "colab": {
          "base_uri": "https://localhost:8080/"
        },
        "id": "O7a-vH6OQt6h",
        "outputId": "ace02a57-e8a1-4dd4-d9d9-ac2805421d34"
      },
      "execution_count": 18,
      "outputs": [
        {
          "output_type": "stream",
          "name": "stdout",
          "text": [
            "\n",
            " shape (3, 2, 4)\n"
          ]
        }
      ]
    },
    {
      "cell_type": "code",
      "source": [
        "t1=tf.expand_dims(t,0)\n",
        "t2=tf.expand_dims(t,1)\n",
        "t3=tf.expand_dims(t,3)"
      ],
      "metadata": {
        "id": "0w7FtRt_RHRx"
      },
      "execution_count": 19,
      "outputs": []
    },
    {
      "cell_type": "code",
      "source": [
        "print(\"\\n After expanding dims\\n t1 shape:\", t1.shape,\"\\n t2 shape:\",t2.shape,\"t3.shape:\",t3.shape)"
      ],
      "metadata": {
        "colab": {
          "base_uri": "https://localhost:8080/"
        },
        "id": "rK1wb73PRUsJ",
        "outputId": "1426d31d-1ac2-4cc7-d228-7c1c52d62ebc"
      },
      "execution_count": 20,
      "outputs": [
        {
          "output_type": "stream",
          "name": "stdout",
          "text": [
            "\n",
            " After expanding dims\n",
            " t1 shape: (1, 3, 2, 4) \n",
            " t2 shape: (3, 1, 2, 4) t3.shape: (3, 2, 4, 1)\n"
          ]
        }
      ]
    },
    {
      "cell_type": "code",
      "source": [
        "t1=tf.squeeze(t1,0)\n",
        "t2=tf.squeeze(t2,1)\n",
        "t3=tf.squeeze(t3,3)"
      ],
      "metadata": {
        "id": "llGwkzzHRxYh"
      },
      "execution_count": 21,
      "outputs": []
    },
    {
      "cell_type": "code",
      "source": [
        "print(\"\\n After squeezing \\n t1.shape:\",t1.shape, \"\\n t2 shape:\",t2.shape,\"t3 shape:\",t3.shape)"
      ],
      "metadata": {
        "colab": {
          "base_uri": "https://localhost:8080/"
        },
        "id": "o88N5xWJSAua",
        "outputId": "708942a4-cdf6-4ab0-cfde-e9b9f33e1714"
      },
      "execution_count": 22,
      "outputs": [
        {
          "output_type": "stream",
          "name": "stdout",
          "text": [
            "\n",
            " After squeezing \n",
            " t1.shape: (3, 2, 4) \n",
            " t2 shape: (3, 2, 4) t3 shape: (3, 2, 4)\n"
          ]
        }
      ]
    },
    {
      "cell_type": "code",
      "source": [
        "c=tf.constant([[1.0,2.0],[3.0,4.0]])\n",
        "d=tf.constant([[1.0,1.0],[0.0,1.0]])"
      ],
      "metadata": {
        "id": "egPInaJjSTKS"
      },
      "execution_count": 24,
      "outputs": []
    },
    {
      "cell_type": "code",
      "source": [
        "matmul_cd=tf.matmul(c,d)\n",
        "print(matmul_cd)"
      ],
      "metadata": {
        "colab": {
          "base_uri": "https://localhost:8080/"
        },
        "id": "HBMZDNokSsbV",
        "outputId": "35dcf83b-3f72-4b90-e742-42719b10eeb9"
      },
      "execution_count": 25,
      "outputs": [
        {
          "output_type": "stream",
          "name": "stdout",
          "text": [
            "tf.Tensor(\n",
            "[[1. 3.]\n",
            " [3. 7.]], shape=(2, 2), dtype=float32)\n"
          ]
        }
      ]
    },
    {
      "cell_type": "code",
      "source": [
        "tn=tf.random.normal(shape=(2,2),mean=0,stddev=1.)\n",
        "tu=tf.random.uniform(shape=(2,1),minval=0,maxval=10, dtype='int32')\n",
        "tp=tf.random.poisson((2,2),5)"
      ],
      "metadata": {
        "id": "M7v_8CFeTYxS"
      },
      "execution_count": 28,
      "outputs": []
    },
    {
      "cell_type": "code",
      "source": [
        "d=tf.square(tn)\n",
        "e=tf.exp(d)\n",
        "f=tf.cos(c)"
      ],
      "metadata": {
        "id": "dFU60La1Uoyb"
      },
      "execution_count": 29,
      "outputs": []
    }
  ]
}