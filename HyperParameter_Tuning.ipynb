{
  "nbformat": 4,
  "nbformat_minor": 0,
  "metadata": {
    "colab": {
      "provenance": [],
      "authorship_tag": "ABX9TyNCS0yMsQG9XFQ3ZfhOvnkW",
      "include_colab_link": true
    },
    "kernelspec": {
      "name": "python3",
      "display_name": "Python 3"
    },
    "language_info": {
      "name": "python"
    }
  },
  "cells": [
    {
      "cell_type": "markdown",
      "metadata": {
        "id": "view-in-github",
        "colab_type": "text"
      },
      "source": [
        "<a href=\"https://colab.research.google.com/github/anjusree123/TensorFlow/blob/main/HyperParameter_Tuning.ipynb\" target=\"_parent\"><img src=\"https://colab.research.google.com/assets/colab-badge.svg\" alt=\"Open In Colab\"/></a>"
      ]
    },
    {
      "cell_type": "code",
      "execution_count": 3,
      "metadata": {
        "id": "JIEzTkZEMiis"
      },
      "outputs": [],
      "source": [
        "import tensorflow as tf\n",
        "import keras\n",
        "import sklearn\n",
        "import numpy as np\n",
        "import matplotlib.pyplot as plt\n",
        "from keras.layers import Dense,Dropout\n",
        "from keras.models import Sequential\n",
        "from keras.callbacks import LearningRateScheduler\n",
        "\n",
        "np.random.seed(42)"
      ]
    },
    {
      "cell_type": "code",
      "source": [
        "pip install -U scikit-learn scipy matplotlib"
      ],
      "metadata": {
        "colab": {
          "base_uri": "https://localhost:8080/"
        },
        "id": "CO5Fiom4OVwS",
        "outputId": "297421c0-854f-433f-f90a-097763935e8e"
      },
      "execution_count": 5,
      "outputs": [
        {
          "output_type": "stream",
          "name": "stdout",
          "text": [
            "Looking in indexes: https://pypi.org/simple, https://us-python.pkg.dev/colab-wheels/public/simple/\n",
            "Requirement already satisfied: scikit-learn in /usr/local/lib/python3.10/dist-packages (1.2.2)\n",
            "Requirement already satisfied: scipy in /usr/local/lib/python3.10/dist-packages (1.10.1)\n",
            "Requirement already satisfied: matplotlib in /usr/local/lib/python3.10/dist-packages (3.7.1)\n",
            "Requirement already satisfied: numpy>=1.17.3 in /usr/local/lib/python3.10/dist-packages (from scikit-learn) (1.22.4)\n",
            "Requirement already satisfied: joblib>=1.1.1 in /usr/local/lib/python3.10/dist-packages (from scikit-learn) (1.2.0)\n",
            "Requirement already satisfied: threadpoolctl>=2.0.0 in /usr/local/lib/python3.10/dist-packages (from scikit-learn) (3.1.0)\n",
            "Requirement already satisfied: contourpy>=1.0.1 in /usr/local/lib/python3.10/dist-packages (from matplotlib) (1.0.7)\n",
            "Requirement already satisfied: cycler>=0.10 in /usr/local/lib/python3.10/dist-packages (from matplotlib) (0.11.0)\n",
            "Requirement already satisfied: fonttools>=4.22.0 in /usr/local/lib/python3.10/dist-packages (from matplotlib) (4.39.3)\n",
            "Requirement already satisfied: kiwisolver>=1.0.1 in /usr/local/lib/python3.10/dist-packages (from matplotlib) (1.4.4)\n",
            "Requirement already satisfied: packaging>=20.0 in /usr/local/lib/python3.10/dist-packages (from matplotlib) (23.1)\n",
            "Requirement already satisfied: pillow>=6.2.0 in /usr/local/lib/python3.10/dist-packages (from matplotlib) (8.4.0)\n",
            "Requirement already satisfied: pyparsing>=2.3.1 in /usr/local/lib/python3.10/dist-packages (from matplotlib) (3.0.9)\n",
            "Requirement already satisfied: python-dateutil>=2.7 in /usr/local/lib/python3.10/dist-packages (from matplotlib) (2.8.2)\n",
            "Requirement already satisfied: six>=1.5 in /usr/local/lib/python3.10/dist-packages (from python-dateutil>=2.7->matplotlib) (1.16.0)\n"
          ]
        }
      ]
    },
    {
      "cell_type": "code",
      "source": [
        "from sklearn.model_selection import GridSearchCV\n",
        "from keras.constraints import maxnorm"
      ],
      "metadata": {
        "id": "FWYbRZWqOW_D"
      },
      "execution_count": 9,
      "outputs": []
    },
    {
      "cell_type": "code",
      "source": [
        "dataset=keras.datasets.mnist"
      ],
      "metadata": {
        "id": "skzPbk5pP1ki"
      },
      "execution_count": 13,
      "outputs": []
    },
    {
      "cell_type": "code",
      "source": [
        "(x_train,y_train),(x_test,y_test)=dataset.load_data()"
      ],
      "metadata": {
        "id": "5VMl3B-HQP7x"
      },
      "execution_count": 15,
      "outputs": []
    },
    {
      "cell_type": "code",
      "source": [
        "plt.figure(figsize=(10,10))\n",
        "for i in range(20):\n",
        "  plt.subplot(5,5,i+1)\n",
        "  plt.xticks([])\n",
        "  plt.yticks([])\n",
        "  plt.grid(False)\n",
        "  plt.imshow(x_train[i],cmap=plt.cm.binary)\n",
        "  plt.xlabel(y_train[i])\n"
      ],
      "metadata": {
        "colab": {
          "base_uri": "https://localhost:8080/",
          "height": 667
        },
        "id": "tHP0q3bsQA55",
        "outputId": "2ffd8476-28f0-4f41-f40f-b27642662044"
      },
      "execution_count": 16,
      "outputs": [
        {
          "output_type": "display_data",
          "data": {
            "text/plain": [
              "<Figure size 1000x1000 with 20 Axes>"
            ],
            "image/png": "[encoded data removed]"
          },
          "metadata": {}
        }
      ]
    },
    {
      "cell_type": "code",
      "source": [
        "x_train,x_test=x_train/255.0,x_test/255.0"
      ],
      "metadata": {
        "id": "FPt5RcTZRkpf"
      },
      "execution_count": 17,
      "outputs": []
    },
    {
      "cell_type": "code",
      "source": [
        "x_train=x_train.reshape(60000,784)\n",
        "x_test=x_test.reshape(10000,784)\n",
        "num_classes=10"
      ],
      "metadata": {
        "id": "jI-pKtk5R16S"
      },
      "execution_count": 19,
      "outputs": []
    },
    {
      "cell_type": "code",
      "source": [
        "y_train=keras.utils.to_categorical(y_train,num_classes)\n",
        "y_test=keras.utils.to_categorical(y_test,num_classes)"
      ],
      "metadata": {
        "id": "tTrF7zYQSNvz"
      },
      "execution_count": 20,
      "outputs": []
    },
    {
      "cell_type": "code",
      "source": [
        "from sklearn.model_selection import train_test_split\n",
        "x_grid,x_nouse,y_grid,y_nouse=train_test_split(x_train, y_train, test_size=0.9, random_state=42)"
      ],
      "metadata": {
        "id": "eUzIRuWVSe8d"
      },
      "execution_count": 21,
      "outputs": []
    },
    {
      "cell_type": "code",
      "source": [
        "input_dim = x_grid.shape[1]"
      ],
      "metadata": {
        "id": "LwQtfFBMTlay"
      },
      "execution_count": 22,
      "outputs": []
    },
    {
      "cell_type": "code",
      "source": [
        "def define_model(dropout_rate=0.0, weight_constraint=0, neurons=10):   \n",
        "    model = Sequential()\n",
        "    model.add(Dense(neurons, activation='relu', kernel_initializer='he_uniform', \n",
        "        input_dim = input_dim, kernel_constraint=maxnorm(weight_constraint))) \n",
        "    model.add(Dropout(dropout_rate))\n",
        "    model.add(Dense(neurons, kernel_initializer='he_uniform', activation='relu'))\n",
        "    model.add(Dense(num_classes, kernel_initializer='he_uniform', activation='softmax'))\n",
        "    \n",
        "    # compile the model\n",
        "    model.compile(loss='categorical_crossentropy',\n",
        "                  optimizer='Adam',      \n",
        "                  metrics=['acc'])\n",
        "    return model"
      ],
      "metadata": {
        "id": "a5bEMhlnTtlP"
      },
      "execution_count": 23,
      "outputs": []
    },
    {
      "cell_type": "code",
      "source": [
        "from keras.wrappers.scikit_learn import KerasClassifier\n",
        "\n",
        "model = KerasClassifier(build_fn=define_model, \n",
        "                        verbose=1)\n",
        "\n",
        "dropout_rate = [0.0, 0.2, 0.4]\n",
        "weight_constraint = [1, 2, 3]\n",
        "neurons = [10, 32, 64]\n",
        "batch_size = [100, 200, 400]\n",
        "epochs = [1, 5, 10]\n",
        "\n",
        "param_grid = dict(dropout_rate=dropout_rate, \n",
        "                  weight_constraint=weight_constraint,\n",
        "                  neurons=neurons, batch_size=batch_size, \n",
        "                  epochs=epochs)"
      ],
      "metadata": {
        "colab": {
          "base_uri": "https://localhost:8080/"
        },
        "id": "ZVXECLnXU1fM",
        "outputId": "863032b5-fe26-481c-d9d2-e8d0da86d65b"
      },
      "execution_count": 25,
      "outputs": [
        {
          "output_type": "stream",
          "name": "stderr",
          "text": [
            "<ipython-input-25-a4f64c83681e>:3: DeprecationWarning: KerasClassifier is deprecated, use Sci-Keras (https://github.com/adriangb/scikeras) instead. See https://www.adriangb.com/scikeras/stable/migration.html for help migrating.\n",
            "  model = KerasClassifier(build_fn=define_model,\n"
          ]
        }
      ]
    },
    {
      "cell_type": "code",
      "source": [
        "grid = GridSearchCV(estimator=model, param_grid=param_grid, n_jobs=16, cv=3)\n",
        "\n",
        "grid_result = grid.fit(x_grid, y_grid)"
      ],
      "metadata": {
        "colab": {
          "base_uri": "https://localhost:8080/"
        },
        "id": "zNjqD0FxU4Sv",
        "outputId": "74c601d4-c7bc-4a5f-a2fe-79f086748989"
      },
      "execution_count": 26,
      "outputs": [
        {
          "output_type": "stream",
          "name": "stderr",
          "text": [
            "/usr/local/lib/python3.10/dist-packages/joblib/externals/loky/process_executor.py:700: UserWarning: A worker stopped while some jobs were given to the executor. This can be caused by a too short worker timeout or by a memory leak.\n",
            "  warnings.warn(\n"
          ]
        },
        {
          "output_type": "stream",
          "name": "stdout",
          "text": [
            "Epoch 1/10\n",
            "60/60 [==============================] - 1s 5ms/step - loss: 1.1284 - acc: 0.6863\n",
            "Epoch 2/10\n",
            "60/60 [==============================] - 0s 5ms/step - loss: 0.3785 - acc: 0.8933\n",
            "Epoch 3/10\n",
            "60/60 [==============================] - 0s 5ms/step - loss: 0.2806 - acc: 0.9198\n",
            "Epoch 4/10\n",
            "60/60 [==============================] - 0s 4ms/step - loss: 0.2213 - acc: 0.9375\n",
            "Epoch 5/10\n",
            "60/60 [==============================] - 0s 4ms/step - loss: 0.1831 - acc: 0.9505\n",
            "Epoch 6/10\n",
            "60/60 [==============================] - 0s 4ms/step - loss: 0.1559 - acc: 0.9575\n",
            "Epoch 7/10\n",
            "60/60 [==============================] - 0s 5ms/step - loss: 0.1287 - acc: 0.9662\n",
            "Epoch 8/10\n",
            "60/60 [==============================] - 0s 5ms/step - loss: 0.1130 - acc: 0.9690\n",
            "Epoch 9/10\n",
            "60/60 [==============================] - 0s 4ms/step - loss: 0.0936 - acc: 0.9767\n",
            "Epoch 10/10\n",
            "60/60 [==============================] - 0s 4ms/step - loss: 0.0847 - acc: 0.9783\n"
          ]
        }
      ]
    },
    {
      "cell_type": "code",
      "source": [
        "print(\"Best: %f using %s\" % (grid_result.best_score_, grid_result.best_params_))\n",
        "means = grid_result.cv_results_['mean_test_score']\n",
        "stds = grid_result.cv_results_['std_test_score']\n",
        "params = grid_result.cv_results_['params']\n",
        "for mean, stdev, param in zip(means, stds, params):\n",
        "    print(\"Mean = %f (std=%f) with: %r\" % (mean, stdev, param))"
      ],
      "metadata": {
        "colab": {
          "base_uri": "https://localhost:8080/"
        },
        "id": "Lr3un9uHVAvb",
        "outputId": "b63b5039-6f49-4602-fc2f-7fcd8d5154c2"
      },
      "execution_count": 27,
      "outputs": [
        {
          "output_type": "stream",
          "name": "stdout",
          "text": [
            "Best: 0.928500 using {'batch_size': 100, 'dropout_rate': 0.0, 'epochs': 10, 'neurons': 64, 'weight_constraint': 2}\n",
            "Mean = 0.390500 (std=0.030760) with: {'batch_size': 100, 'dropout_rate': 0.0, 'epochs': 1, 'neurons': 10, 'weight_constraint': 1}\n",
            "Mean = 0.383000 (std=0.100450) with: {'batch_size': 100, 'dropout_rate': 0.0, 'epochs': 1, 'neurons': 10, 'weight_constraint': 2}\n",
            "Mean = 0.352833 (std=0.098584) with: {'batch_size': 100, 'dropout_rate': 0.0, 'epochs': 1, 'neurons': 10, 'weight_constraint': 3}\n",
            "Mean = 0.750167 (std=0.024652) with: {'batch_size': 100, 'dropout_rate': 0.0, 'epochs': 1, 'neurons': 32, 'weight_constraint': 1}\n",
            "Mean = 0.697333 (std=0.053467) with: {'batch_size': 100, 'dropout_rate': 0.0, 'epochs': 1, 'neurons': 32, 'weight_constraint': 2}\n",
            "Mean = 0.729500 (std=0.033068) with: {'batch_size': 100, 'dropout_rate': 0.0, 'epochs': 1, 'neurons': 32, 'weight_constraint': 3}\n",
            "Mean = 0.826500 (std=0.022106) with: {'batch_size': 100, 'dropout_rate': 0.0, 'epochs': 1, 'neurons': 64, 'weight_constraint': 1}\n",
            "Mean = 0.824500 (std=0.007649) with: {'batch_size': 100, 'dropout_rate': 0.0, 'epochs': 1, 'neurons': 64, 'weight_constraint': 2}\n",
            "Mean = 0.813500 (std=0.031877) with: {'batch_size': 100, 'dropout_rate': 0.0, 'epochs': 1, 'neurons': 64, 'weight_constraint': 3}\n",
            "Mean = 0.655000 (std=0.057758) with: {'batch_size': 100, 'dropout_rate': 0.0, 'epochs': 5, 'neurons': 10, 'weight_constraint': 1}\n",
            "Mean = 0.791000 (std=0.006164) with: {'batch_size': 100, 'dropout_rate': 0.0, 'epochs': 5, 'neurons': 10, 'weight_constraint': 2}\n",
            "Mean = 0.744167 (std=0.040450) with: {'batch_size': 100, 'dropout_rate': 0.0, 'epochs': 5, 'neurons': 10, 'weight_constraint': 3}\n",
            "Mean = 0.900833 (std=0.005558) with: {'batch_size': 100, 'dropout_rate': 0.0, 'epochs': 5, 'neurons': 32, 'weight_constraint': 1}\n",
            "Mean = 0.899500 (std=0.005715) with: {'batch_size': 100, 'dropout_rate': 0.0, 'epochs': 5, 'neurons': 32, 'weight_constraint': 2}\n",
            "Mean = 0.902167 (std=0.005482) with: {'batch_size': 100, 'dropout_rate': 0.0, 'epochs': 5, 'neurons': 32, 'weight_constraint': 3}\n",
            "Mean = 0.915667 (std=0.007307) with: {'batch_size': 100, 'dropout_rate': 0.0, 'epochs': 5, 'neurons': 64, 'weight_constraint': 1}\n",
            "Mean = 0.915000 (std=0.003240) with: {'batch_size': 100, 'dropout_rate': 0.0, 'epochs': 5, 'neurons': 64, 'weight_constraint': 2}\n",
            "Mean = 0.914667 (std=0.003880) with: {'batch_size': 100, 'dropout_rate': 0.0, 'epochs': 5, 'neurons': 64, 'weight_constraint': 3}\n",
            "Mean = 0.865833 (std=0.017703) with: {'batch_size': 100, 'dropout_rate': 0.0, 'epochs': 10, 'neurons': 10, 'weight_constraint': 1}\n",
            "Mean = 0.858500 (std=0.022873) with: {'batch_size': 100, 'dropout_rate': 0.0, 'epochs': 10, 'neurons': 10, 'weight_constraint': 2}\n",
            "Mean = 0.863833 (std=0.003064) with: {'batch_size': 100, 'dropout_rate': 0.0, 'epochs': 10, 'neurons': 10, 'weight_constraint': 3}\n",
            "Mean = 0.914333 (std=0.005265) with: {'batch_size': 100, 'dropout_rate': 0.0, 'epochs': 10, 'neurons': 32, 'weight_constraint': 1}\n",
            "Mean = 0.916667 (std=0.002461) with: {'batch_size': 100, 'dropout_rate': 0.0, 'epochs': 10, 'neurons': 32, 'weight_constraint': 2}\n",
            "Mean = 0.917167 (std=0.004989) with: {'batch_size': 100, 'dropout_rate': 0.0, 'epochs': 10, 'neurons': 32, 'weight_constraint': 3}\n",
            "Mean = 0.927667 (std=0.003091) with: {'batch_size': 100, 'dropout_rate': 0.0, 'epochs': 10, 'neurons': 64, 'weight_constraint': 1}\n",
            "Mean = 0.928500 (std=0.002677) with: {'batch_size': 100, 'dropout_rate': 0.0, 'epochs': 10, 'neurons': 64, 'weight_constraint': 2}\n",
            "Mean = 0.927000 (std=0.006377) with: {'batch_size': 100, 'dropout_rate': 0.0, 'epochs': 10, 'neurons': 64, 'weight_constraint': 3}\n",
            "Mean = 0.332667 (std=0.046537) with: {'batch_size': 100, 'dropout_rate': 0.2, 'epochs': 1, 'neurons': 10, 'weight_constraint': 1}\n",
            "Mean = 0.348000 (std=0.002858) with: {'batch_size': 100, 'dropout_rate': 0.2, 'epochs': 1, 'neurons': 10, 'weight_constraint': 2}\n",
            "Mean = 0.293333 (std=0.054565) with: {'batch_size': 100, 'dropout_rate': 0.2, 'epochs': 1, 'neurons': 10, 'weight_constraint': 3}\n",
            "Mean = 0.730000 (std=0.033573) with: {'batch_size': 100, 'dropout_rate': 0.2, 'epochs': 1, 'neurons': 32, 'weight_constraint': 1}\n",
            "Mean = 0.688833 (std=0.024571) with: {'batch_size': 100, 'dropout_rate': 0.2, 'epochs': 1, 'neurons': 32, 'weight_constraint': 2}\n",
            "Mean = 0.705667 (std=0.029817) with: {'batch_size': 100, 'dropout_rate': 0.2, 'epochs': 1, 'neurons': 32, 'weight_constraint': 3}\n",
            "Mean = 0.820833 (std=0.002656) with: {'batch_size': 100, 'dropout_rate': 0.2, 'epochs': 1, 'neurons': 64, 'weight_constraint': 1}\n",
            "Mean = 0.794000 (std=0.006338) with: {'batch_size': 100, 'dropout_rate': 0.2, 'epochs': 1, 'neurons': 64, 'weight_constraint': 2}\n",
            "Mean = 0.795833 (std=0.016214) with: {'batch_size': 100, 'dropout_rate': 0.2, 'epochs': 1, 'neurons': 64, 'weight_constraint': 3}\n",
            "Mean = 0.726500 (std=0.061535) with: {'batch_size': 100, 'dropout_rate': 0.2, 'epochs': 5, 'neurons': 10, 'weight_constraint': 1}\n",
            "Mean = 0.737000 (std=0.022275) with: {'batch_size': 100, 'dropout_rate': 0.2, 'epochs': 5, 'neurons': 10, 'weight_constraint': 2}\n",
            "Mean = 0.678667 (std=0.012479) with: {'batch_size': 100, 'dropout_rate': 0.2, 'epochs': 5, 'neurons': 10, 'weight_constraint': 3}\n",
            "Mean = 0.892167 (std=0.007215) with: {'batch_size': 100, 'dropout_rate': 0.2, 'epochs': 5, 'neurons': 32, 'weight_constraint': 1}\n",
            "Mean = 0.893000 (std=0.010108) with: {'batch_size': 100, 'dropout_rate': 0.2, 'epochs': 5, 'neurons': 32, 'weight_constraint': 2}\n",
            "Mean = 0.890000 (std=0.003342) with: {'batch_size': 100, 'dropout_rate': 0.2, 'epochs': 5, 'neurons': 32, 'weight_constraint': 3}\n",
            "Mean = 0.914667 (std=0.002461) with: {'batch_size': 100, 'dropout_rate': 0.2, 'epochs': 5, 'neurons': 64, 'weight_constraint': 1}\n",
            "Mean = 0.911833 (std=0.002014) with: {'batch_size': 100, 'dropout_rate': 0.2, 'epochs': 5, 'neurons': 64, 'weight_constraint': 2}\n",
            "Mean = 0.914500 (std=0.004708) with: {'batch_size': 100, 'dropout_rate': 0.2, 'epochs': 5, 'neurons': 64, 'weight_constraint': 3}\n",
            "Mean = 0.807333 (std=0.035264) with: {'batch_size': 100, 'dropout_rate': 0.2, 'epochs': 10, 'neurons': 10, 'weight_constraint': 1}\n",
            "Mean = 0.787333 (std=0.031372) with: {'batch_size': 100, 'dropout_rate': 0.2, 'epochs': 10, 'neurons': 10, 'weight_constraint': 2}\n",
            "Mean = 0.841000 (std=0.003189) with: {'batch_size': 100, 'dropout_rate': 0.2, 'epochs': 10, 'neurons': 10, 'weight_constraint': 3}\n",
            "Mean = 0.913500 (std=0.006338) with: {'batch_size': 100, 'dropout_rate': 0.2, 'epochs': 10, 'neurons': 32, 'weight_constraint': 1}\n",
            "Mean = 0.908667 (std=0.004767) with: {'batch_size': 100, 'dropout_rate': 0.2, 'epochs': 10, 'neurons': 32, 'weight_constraint': 2}\n",
            "Mean = 0.916000 (std=0.005715) with: {'batch_size': 100, 'dropout_rate': 0.2, 'epochs': 10, 'neurons': 32, 'weight_constraint': 3}\n",
            "Mean = 0.927167 (std=0.001700) with: {'batch_size': 100, 'dropout_rate': 0.2, 'epochs': 10, 'neurons': 64, 'weight_constraint': 1}\n",
            "Mean = 0.927333 (std=0.004714) with: {'batch_size': 100, 'dropout_rate': 0.2, 'epochs': 10, 'neurons': 64, 'weight_constraint': 2}\n",
            "Mean = 0.928333 (std=0.004403) with: {'batch_size': 100, 'dropout_rate': 0.2, 'epochs': 10, 'neurons': 64, 'weight_constraint': 3}\n",
            "Mean = 0.310167 (std=0.091717) with: {'batch_size': 100, 'dropout_rate': 0.4, 'epochs': 1, 'neurons': 10, 'weight_constraint': 1}\n",
            "Mean = 0.256500 (std=0.057667) with: {'batch_size': 100, 'dropout_rate': 0.4, 'epochs': 1, 'neurons': 10, 'weight_constraint': 2}\n",
            "Mean = 0.258167 (std=0.048553) with: {'batch_size': 100, 'dropout_rate': 0.4, 'epochs': 1, 'neurons': 10, 'weight_constraint': 3}\n",
            "Mean = 0.610667 (std=0.091646) with: {'batch_size': 100, 'dropout_rate': 0.4, 'epochs': 1, 'neurons': 32, 'weight_constraint': 1}\n",
            "Mean = 0.582500 (std=0.086968) with: {'batch_size': 100, 'dropout_rate': 0.4, 'epochs': 1, 'neurons': 32, 'weight_constraint': 2}\n",
            "Mean = 0.676167 (std=0.021441) with: {'batch_size': 100, 'dropout_rate': 0.4, 'epochs': 1, 'neurons': 32, 'weight_constraint': 3}\n",
            "Mean = 0.813000 (std=0.021416) with: {'batch_size': 100, 'dropout_rate': 0.4, 'epochs': 1, 'neurons': 64, 'weight_constraint': 1}\n",
            "Mean = 0.761667 (std=0.011707) with: {'batch_size': 100, 'dropout_rate': 0.4, 'epochs': 1, 'neurons': 64, 'weight_constraint': 2}\n",
            "Mean = 0.767833 (std=0.009741) with: {'batch_size': 100, 'dropout_rate': 0.4, 'epochs': 1, 'neurons': 64, 'weight_constraint': 3}\n",
            "Mean = 0.676000 (std=0.012656) with: {'batch_size': 100, 'dropout_rate': 0.4, 'epochs': 5, 'neurons': 10, 'weight_constraint': 1}\n",
            "Mean = 0.697833 (std=0.009801) with: {'batch_size': 100, 'dropout_rate': 0.4, 'epochs': 5, 'neurons': 10, 'weight_constraint': 2}\n",
            "Mean = 0.638333 (std=0.014902) with: {'batch_size': 100, 'dropout_rate': 0.4, 'epochs': 5, 'neurons': 10, 'weight_constraint': 3}\n",
            "Mean = 0.879833 (std=0.008410) with: {'batch_size': 100, 'dropout_rate': 0.4, 'epochs': 5, 'neurons': 32, 'weight_constraint': 1}\n",
            "Mean = 0.884000 (std=0.002160) with: {'batch_size': 100, 'dropout_rate': 0.4, 'epochs': 5, 'neurons': 32, 'weight_constraint': 2}\n",
            "Mean = 0.876500 (std=0.002828) with: {'batch_size': 100, 'dropout_rate': 0.4, 'epochs': 5, 'neurons': 32, 'weight_constraint': 3}\n",
            "Mean = 0.898667 (std=0.005437) with: {'batch_size': 100, 'dropout_rate': 0.4, 'epochs': 5, 'neurons': 64, 'weight_constraint': 1}\n",
            "Mean = 0.902333 (std=0.004922) with: {'batch_size': 100, 'dropout_rate': 0.4, 'epochs': 5, 'neurons': 64, 'weight_constraint': 2}\n",
            "Mean = 0.907833 (std=0.005632) with: {'batch_size': 100, 'dropout_rate': 0.4, 'epochs': 5, 'neurons': 64, 'weight_constraint': 3}\n",
            "Mean = 0.767667 (std=0.044321) with: {'batch_size': 100, 'dropout_rate': 0.4, 'epochs': 10, 'neurons': 10, 'weight_constraint': 1}\n",
            "Mean = 0.788500 (std=0.047849) with: {'batch_size': 100, 'dropout_rate': 0.4, 'epochs': 10, 'neurons': 10, 'weight_constraint': 2}\n",
            "Mean = 0.807333 (std=0.008390) with: {'batch_size': 100, 'dropout_rate': 0.4, 'epochs': 10, 'neurons': 10, 'weight_constraint': 3}\n",
            "Mean = 0.902167 (std=0.002953) with: {'batch_size': 100, 'dropout_rate': 0.4, 'epochs': 10, 'neurons': 32, 'weight_constraint': 1}\n",
            "Mean = 0.896000 (std=0.003240) with: {'batch_size': 100, 'dropout_rate': 0.4, 'epochs': 10, 'neurons': 32, 'weight_constraint': 2}\n",
            "Mean = 0.901000 (std=0.006532) with: {'batch_size': 100, 'dropout_rate': 0.4, 'epochs': 10, 'neurons': 32, 'weight_constraint': 3}\n",
            "Mean = 0.922667 (std=0.006355) with: {'batch_size': 100, 'dropout_rate': 0.4, 'epochs': 10, 'neurons': 64, 'weight_constraint': 1}\n",
            "Mean = 0.922167 (std=0.005437) with: {'batch_size': 100, 'dropout_rate': 0.4, 'epochs': 10, 'neurons': 64, 'weight_constraint': 2}\n",
            "Mean = 0.922833 (std=0.000471) with: {'batch_size': 100, 'dropout_rate': 0.4, 'epochs': 10, 'neurons': 64, 'weight_constraint': 3}\n",
            "Mean = 0.254000 (std=0.049173) with: {'batch_size': 200, 'dropout_rate': 0.0, 'epochs': 1, 'neurons': 10, 'weight_constraint': 1}\n",
            "Mean = 0.250667 (std=0.038817) with: {'batch_size': 200, 'dropout_rate': 0.0, 'epochs': 1, 'neurons': 10, 'weight_constraint': 2}\n",
            "Mean = 0.238833 (std=0.016534) with: {'batch_size': 200, 'dropout_rate': 0.0, 'epochs': 1, 'neurons': 10, 'weight_constraint': 3}\n",
            "Mean = 0.612000 (std=0.007450) with: {'batch_size': 200, 'dropout_rate': 0.0, 'epochs': 1, 'neurons': 32, 'weight_constraint': 1}\n",
            "Mean = 0.606000 (std=0.064230) with: {'batch_size': 200, 'dropout_rate': 0.0, 'epochs': 1, 'neurons': 32, 'weight_constraint': 2}\n",
            "Mean = 0.603667 (std=0.032482) with: {'batch_size': 200, 'dropout_rate': 0.0, 'epochs': 1, 'neurons': 32, 'weight_constraint': 3}\n",
            "Mean = 0.753667 (std=0.009348) with: {'batch_size': 200, 'dropout_rate': 0.0, 'epochs': 1, 'neurons': 64, 'weight_constraint': 1}\n",
            "Mean = 0.745167 (std=0.027173) with: {'batch_size': 200, 'dropout_rate': 0.0, 'epochs': 1, 'neurons': 64, 'weight_constraint': 2}\n",
            "Mean = 0.746333 (std=0.013418) with: {'batch_size': 200, 'dropout_rate': 0.0, 'epochs': 1, 'neurons': 64, 'weight_constraint': 3}\n",
            "Mean = 0.591000 (std=0.073544) with: {'batch_size': 200, 'dropout_rate': 0.0, 'epochs': 5, 'neurons': 10, 'weight_constraint': 1}\n",
            "Mean = 0.656167 (std=0.061393) with: {'batch_size': 200, 'dropout_rate': 0.0, 'epochs': 5, 'neurons': 10, 'weight_constraint': 2}\n",
            "Mean = 0.631667 (std=0.069186) with: {'batch_size': 200, 'dropout_rate': 0.0, 'epochs': 5, 'neurons': 10, 'weight_constraint': 3}\n",
            "Mean = 0.885833 (std=0.006956) with: {'batch_size': 200, 'dropout_rate': 0.0, 'epochs': 5, 'neurons': 32, 'weight_constraint': 1}\n",
            "Mean = 0.877167 (std=0.010019) with: {'batch_size': 200, 'dropout_rate': 0.0, 'epochs': 5, 'neurons': 32, 'weight_constraint': 2}\n",
            "Mean = 0.872500 (std=0.003937) with: {'batch_size': 200, 'dropout_rate': 0.0, 'epochs': 5, 'neurons': 32, 'weight_constraint': 3}\n",
            "Mean = 0.905167 (std=0.006511) with: {'batch_size': 200, 'dropout_rate': 0.0, 'epochs': 5, 'neurons': 64, 'weight_constraint': 1}\n",
            "Mean = 0.903333 (std=0.003064) with: {'batch_size': 200, 'dropout_rate': 0.0, 'epochs': 5, 'neurons': 64, 'weight_constraint': 2}\n",
            "Mean = 0.903500 (std=0.001871) with: {'batch_size': 200, 'dropout_rate': 0.0, 'epochs': 5, 'neurons': 64, 'weight_constraint': 3}\n",
            "Mean = 0.787500 (std=0.042839) with: {'batch_size': 200, 'dropout_rate': 0.0, 'epochs': 10, 'neurons': 10, 'weight_constraint': 1}\n",
            "Mean = 0.770167 (std=0.048556) with: {'batch_size': 200, 'dropout_rate': 0.0, 'epochs': 10, 'neurons': 10, 'weight_constraint': 2}\n",
            "Mean = 0.805500 (std=0.020302) with: {'batch_size': 200, 'dropout_rate': 0.0, 'epochs': 10, 'neurons': 10, 'weight_constraint': 3}\n",
            "Mean = 0.910833 (std=0.002095) with: {'batch_size': 200, 'dropout_rate': 0.0, 'epochs': 10, 'neurons': 32, 'weight_constraint': 1}\n",
            "Mean = 0.910833 (std=0.006650) with: {'batch_size': 200, 'dropout_rate': 0.0, 'epochs': 10, 'neurons': 32, 'weight_constraint': 2}\n",
            "Mean = 0.912333 (std=0.002779) with: {'batch_size': 200, 'dropout_rate': 0.0, 'epochs': 10, 'neurons': 32, 'weight_constraint': 3}\n",
            "Mean = 0.923667 (std=0.004732) with: {'batch_size': 200, 'dropout_rate': 0.0, 'epochs': 10, 'neurons': 64, 'weight_constraint': 1}\n",
            "Mean = 0.923500 (std=0.003240) with: {'batch_size': 200, 'dropout_rate': 0.0, 'epochs': 10, 'neurons': 64, 'weight_constraint': 2}\n",
            "Mean = 0.918667 (std=0.004552) with: {'batch_size': 200, 'dropout_rate': 0.0, 'epochs': 10, 'neurons': 64, 'weight_constraint': 3}\n",
            "Mean = 0.296667 (std=0.035436) with: {'batch_size': 200, 'dropout_rate': 0.2, 'epochs': 1, 'neurons': 10, 'weight_constraint': 1}\n",
            "Mean = 0.284333 (std=0.068635) with: {'batch_size': 200, 'dropout_rate': 0.2, 'epochs': 1, 'neurons': 10, 'weight_constraint': 2}\n",
            "Mean = 0.295167 (std=0.014378) with: {'batch_size': 200, 'dropout_rate': 0.2, 'epochs': 1, 'neurons': 10, 'weight_constraint': 3}\n",
            "Mean = 0.601333 (std=0.045425) with: {'batch_size': 200, 'dropout_rate': 0.2, 'epochs': 1, 'neurons': 32, 'weight_constraint': 1}\n",
            "Mean = 0.526000 (std=0.065216) with: {'batch_size': 200, 'dropout_rate': 0.2, 'epochs': 1, 'neurons': 32, 'weight_constraint': 2}\n",
            "Mean = 0.510167 (std=0.025633) with: {'batch_size': 200, 'dropout_rate': 0.2, 'epochs': 1, 'neurons': 32, 'weight_constraint': 3}\n",
            "Mean = 0.684667 (std=0.023471) with: {'batch_size': 200, 'dropout_rate': 0.2, 'epochs': 1, 'neurons': 64, 'weight_constraint': 1}\n",
            "Mean = 0.671833 (std=0.032172) with: {'batch_size': 200, 'dropout_rate': 0.2, 'epochs': 1, 'neurons': 64, 'weight_constraint': 2}\n",
            "Mean = 0.705833 (std=0.015504) with: {'batch_size': 200, 'dropout_rate': 0.2, 'epochs': 1, 'neurons': 64, 'weight_constraint': 3}\n",
            "Mean = 0.622000 (std=0.060799) with: {'batch_size': 200, 'dropout_rate': 0.2, 'epochs': 5, 'neurons': 10, 'weight_constraint': 1}\n",
            "Mean = 0.595833 (std=0.037277) with: {'batch_size': 200, 'dropout_rate': 0.2, 'epochs': 5, 'neurons': 10, 'weight_constraint': 2}\n",
            "Mean = 0.557833 (std=0.057604) with: {'batch_size': 200, 'dropout_rate': 0.2, 'epochs': 5, 'neurons': 10, 'weight_constraint': 3}\n",
            "Mean = 0.864167 (std=0.011301) with: {'batch_size': 200, 'dropout_rate': 0.2, 'epochs': 5, 'neurons': 32, 'weight_constraint': 1}\n",
            "Mean = 0.867833 (std=0.003859) with: {'batch_size': 200, 'dropout_rate': 0.2, 'epochs': 5, 'neurons': 32, 'weight_constraint': 2}\n",
            "Mean = 0.861500 (std=0.012247) with: {'batch_size': 200, 'dropout_rate': 0.2, 'epochs': 5, 'neurons': 32, 'weight_constraint': 3}\n",
            "Mean = 0.900167 (std=0.001434) with: {'batch_size': 200, 'dropout_rate': 0.2, 'epochs': 5, 'neurons': 64, 'weight_constraint': 1}\n",
            "Mean = 0.895333 (std=0.005558) with: {'batch_size': 200, 'dropout_rate': 0.2, 'epochs': 5, 'neurons': 64, 'weight_constraint': 2}\n",
            "Mean = 0.899333 (std=0.010019) with: {'batch_size': 200, 'dropout_rate': 0.2, 'epochs': 5, 'neurons': 64, 'weight_constraint': 3}\n",
            "Mean = 0.767167 (std=0.033966) with: {'batch_size': 200, 'dropout_rate': 0.2, 'epochs': 10, 'neurons': 10, 'weight_constraint': 1}\n",
            "Mean = 0.745500 (std=0.047034) with: {'batch_size': 200, 'dropout_rate': 0.2, 'epochs': 10, 'neurons': 10, 'weight_constraint': 2}\n",
            "Mean = 0.788500 (std=0.051060) with: {'batch_size': 200, 'dropout_rate': 0.2, 'epochs': 10, 'neurons': 10, 'weight_constraint': 3}\n",
            "Mean = 0.903000 (std=0.006124) with: {'batch_size': 200, 'dropout_rate': 0.2, 'epochs': 10, 'neurons': 32, 'weight_constraint': 1}\n",
            "Mean = 0.900167 (std=0.006637) with: {'batch_size': 200, 'dropout_rate': 0.2, 'epochs': 10, 'neurons': 32, 'weight_constraint': 2}\n",
            "Mean = 0.906500 (std=0.003894) with: {'batch_size': 200, 'dropout_rate': 0.2, 'epochs': 10, 'neurons': 32, 'weight_constraint': 3}\n",
            "Mean = 0.920833 (std=0.000943) with: {'batch_size': 200, 'dropout_rate': 0.2, 'epochs': 10, 'neurons': 64, 'weight_constraint': 1}\n",
            "Mean = 0.923167 (std=0.002055) with: {'batch_size': 200, 'dropout_rate': 0.2, 'epochs': 10, 'neurons': 64, 'weight_constraint': 2}\n",
            "Mean = 0.915833 (std=0.003880) with: {'batch_size': 200, 'dropout_rate': 0.2, 'epochs': 10, 'neurons': 64, 'weight_constraint': 3}\n",
            "Mean = 0.219167 (std=0.042135) with: {'batch_size': 200, 'dropout_rate': 0.4, 'epochs': 1, 'neurons': 10, 'weight_constraint': 1}\n",
            "Mean = 0.200500 (std=0.019651) with: {'batch_size': 200, 'dropout_rate': 0.4, 'epochs': 1, 'neurons': 10, 'weight_constraint': 2}\n",
            "Mean = 0.278667 (std=0.006196) with: {'batch_size': 200, 'dropout_rate': 0.4, 'epochs': 1, 'neurons': 10, 'weight_constraint': 3}\n",
            "Mean = 0.534000 (std=0.069674) with: {'batch_size': 200, 'dropout_rate': 0.4, 'epochs': 1, 'neurons': 32, 'weight_constraint': 1}\n",
            "Mean = 0.501667 (std=0.066611) with: {'batch_size': 200, 'dropout_rate': 0.4, 'epochs': 1, 'neurons': 32, 'weight_constraint': 2}\n",
            "Mean = 0.446667 (std=0.030486) with: {'batch_size': 200, 'dropout_rate': 0.4, 'epochs': 1, 'neurons': 32, 'weight_constraint': 3}\n",
            "Mean = 0.690500 (std=0.049826) with: {'batch_size': 200, 'dropout_rate': 0.4, 'epochs': 1, 'neurons': 64, 'weight_constraint': 1}\n",
            "Mean = 0.673667 (std=0.041846) with: {'batch_size': 200, 'dropout_rate': 0.4, 'epochs': 1, 'neurons': 64, 'weight_constraint': 2}\n",
            "Mean = 0.660833 (std=0.054210) with: {'batch_size': 200, 'dropout_rate': 0.4, 'epochs': 1, 'neurons': 64, 'weight_constraint': 3}\n",
            "Mean = 0.573000 (std=0.020704) with: {'batch_size': 200, 'dropout_rate': 0.4, 'epochs': 5, 'neurons': 10, 'weight_constraint': 1}\n",
            "Mean = 0.472500 (std=0.022661) with: {'batch_size': 200, 'dropout_rate': 0.4, 'epochs': 5, 'neurons': 10, 'weight_constraint': 2}\n",
            "Mean = 0.577167 (std=0.066021) with: {'batch_size': 200, 'dropout_rate': 0.4, 'epochs': 5, 'neurons': 10, 'weight_constraint': 3}\n",
            "Mean = 0.849833 (std=0.013725) with: {'batch_size': 200, 'dropout_rate': 0.4, 'epochs': 5, 'neurons': 32, 'weight_constraint': 1}\n",
            "Mean = 0.840167 (std=0.017461) with: {'batch_size': 200, 'dropout_rate': 0.4, 'epochs': 5, 'neurons': 32, 'weight_constraint': 2}\n",
            "Mean = 0.849500 (std=0.008495) with: {'batch_size': 200, 'dropout_rate': 0.4, 'epochs': 5, 'neurons': 32, 'weight_constraint': 3}\n",
            "Mean = 0.890833 (std=0.006459) with: {'batch_size': 200, 'dropout_rate': 0.4, 'epochs': 5, 'neurons': 64, 'weight_constraint': 1}\n",
            "Mean = 0.882667 (std=0.002953) with: {'batch_size': 200, 'dropout_rate': 0.4, 'epochs': 5, 'neurons': 64, 'weight_constraint': 2}\n",
            "Mean = 0.885833 (std=0.011025) with: {'batch_size': 200, 'dropout_rate': 0.4, 'epochs': 5, 'neurons': 64, 'weight_constraint': 3}\n",
            "Mean = 0.686000 (std=0.052869) with: {'batch_size': 200, 'dropout_rate': 0.4, 'epochs': 10, 'neurons': 10, 'weight_constraint': 1}\n",
            "Mean = 0.655667 (std=0.057802) with: {'batch_size': 200, 'dropout_rate': 0.4, 'epochs': 10, 'neurons': 10, 'weight_constraint': 2}\n",
            "Mean = 0.625500 (std=0.026929) with: {'batch_size': 200, 'dropout_rate': 0.4, 'epochs': 10, 'neurons': 10, 'weight_constraint': 3}\n",
            "Mean = 0.889000 (std=0.006745) with: {'batch_size': 200, 'dropout_rate': 0.4, 'epochs': 10, 'neurons': 32, 'weight_constraint': 1}\n",
            "Mean = 0.886500 (std=0.009975) with: {'batch_size': 200, 'dropout_rate': 0.4, 'epochs': 10, 'neurons': 32, 'weight_constraint': 2}\n",
            "Mean = 0.885167 (std=0.006549) with: {'batch_size': 200, 'dropout_rate': 0.4, 'epochs': 10, 'neurons': 32, 'weight_constraint': 3}\n",
            "Mean = 0.910000 (std=0.004301) with: {'batch_size': 200, 'dropout_rate': 0.4, 'epochs': 10, 'neurons': 64, 'weight_constraint': 1}\n",
            "Mean = 0.912667 (std=0.001650) with: {'batch_size': 200, 'dropout_rate': 0.4, 'epochs': 10, 'neurons': 64, 'weight_constraint': 2}\n",
            "Mean = 0.911333 (std=0.004249) with: {'batch_size': 200, 'dropout_rate': 0.4, 'epochs': 10, 'neurons': 64, 'weight_constraint': 3}\n",
            "Mean = 0.170000 (std=0.055114) with: {'batch_size': 400, 'dropout_rate': 0.0, 'epochs': 1, 'neurons': 10, 'weight_constraint': 1}\n",
            "Mean = 0.187833 (std=0.034264) with: {'batch_size': 400, 'dropout_rate': 0.0, 'epochs': 1, 'neurons': 10, 'weight_constraint': 2}\n",
            "Mean = 0.210500 (std=0.053639) with: {'batch_size': 400, 'dropout_rate': 0.0, 'epochs': 1, 'neurons': 10, 'weight_constraint': 3}\n",
            "Mean = 0.389000 (std=0.037989) with: {'batch_size': 400, 'dropout_rate': 0.0, 'epochs': 1, 'neurons': 32, 'weight_constraint': 1}\n",
            "Mean = 0.383333 (std=0.070225) with: {'batch_size': 400, 'dropout_rate': 0.0, 'epochs': 1, 'neurons': 32, 'weight_constraint': 2}\n",
            "Mean = 0.412333 (std=0.011448) with: {'batch_size': 400, 'dropout_rate': 0.0, 'epochs': 1, 'neurons': 32, 'weight_constraint': 3}\n",
            "Mean = 0.608333 (std=0.008469) with: {'batch_size': 400, 'dropout_rate': 0.0, 'epochs': 1, 'neurons': 64, 'weight_constraint': 1}\n",
            "Mean = 0.562500 (std=0.016192) with: {'batch_size': 400, 'dropout_rate': 0.0, 'epochs': 1, 'neurons': 64, 'weight_constraint': 2}\n",
            "Mean = 0.519000 (std=0.070123) with: {'batch_size': 400, 'dropout_rate': 0.0, 'epochs': 1, 'neurons': 64, 'weight_constraint': 3}\n",
            "Mean = 0.466500 (std=0.076780) with: {'batch_size': 400, 'dropout_rate': 0.0, 'epochs': 5, 'neurons': 10, 'weight_constraint': 1}\n",
            "Mean = 0.519833 (std=0.047494) with: {'batch_size': 400, 'dropout_rate': 0.0, 'epochs': 5, 'neurons': 10, 'weight_constraint': 2}\n",
            "Mean = 0.499333 (std=0.043666) with: {'batch_size': 400, 'dropout_rate': 0.0, 'epochs': 5, 'neurons': 10, 'weight_constraint': 3}\n",
            "Mean = 0.853167 (std=0.004714) with: {'batch_size': 400, 'dropout_rate': 0.0, 'epochs': 5, 'neurons': 32, 'weight_constraint': 1}\n",
            "Mean = 0.838833 (std=0.013066) with: {'batch_size': 400, 'dropout_rate': 0.0, 'epochs': 5, 'neurons': 32, 'weight_constraint': 2}\n",
            "Mean = 0.828833 (std=0.008957) with: {'batch_size': 400, 'dropout_rate': 0.0, 'epochs': 5, 'neurons': 32, 'weight_constraint': 3}\n",
            "Mean = 0.874167 (std=0.009672) with: {'batch_size': 400, 'dropout_rate': 0.0, 'epochs': 5, 'neurons': 64, 'weight_constraint': 1}\n",
            "Mean = 0.885000 (std=0.005888) with: {'batch_size': 400, 'dropout_rate': 0.0, 'epochs': 5, 'neurons': 64, 'weight_constraint': 2}\n",
            "Mean = 0.878000 (std=0.007153) with: {'batch_size': 400, 'dropout_rate': 0.0, 'epochs': 5, 'neurons': 64, 'weight_constraint': 3}\n",
            "Mean = 0.534167 (std=0.064635) with: {'batch_size': 400, 'dropout_rate': 0.0, 'epochs': 10, 'neurons': 10, 'weight_constraint': 1}\n",
            "Mean = 0.610667 (std=0.043963) with: {'batch_size': 400, 'dropout_rate': 0.0, 'epochs': 10, 'neurons': 10, 'weight_constraint': 2}\n",
            "Mean = 0.593833 (std=0.034874) with: {'batch_size': 400, 'dropout_rate': 0.0, 'epochs': 10, 'neurons': 10, 'weight_constraint': 3}\n",
            "Mean = 0.895333 (std=0.008024) with: {'batch_size': 400, 'dropout_rate': 0.0, 'epochs': 10, 'neurons': 32, 'weight_constraint': 1}\n",
            "Mean = 0.886500 (std=0.008954) with: {'batch_size': 400, 'dropout_rate': 0.0, 'epochs': 10, 'neurons': 32, 'weight_constraint': 2}\n",
            "Mean = 0.881333 (std=0.010266) with: {'batch_size': 400, 'dropout_rate': 0.0, 'epochs': 10, 'neurons': 32, 'weight_constraint': 3}\n",
            "Mean = 0.913167 (std=0.004478) with: {'batch_size': 400, 'dropout_rate': 0.0, 'epochs': 10, 'neurons': 64, 'weight_constraint': 1}\n",
            "Mean = 0.913000 (std=0.001871) with: {'batch_size': 400, 'dropout_rate': 0.0, 'epochs': 10, 'neurons': 64, 'weight_constraint': 2}\n",
            "Mean = 0.912833 (std=0.003567) with: {'batch_size': 400, 'dropout_rate': 0.0, 'epochs': 10, 'neurons': 64, 'weight_constraint': 3}\n",
            "Mean = 0.248167 (std=0.041949) with: {'batch_size': 400, 'dropout_rate': 0.2, 'epochs': 1, 'neurons': 10, 'weight_constraint': 1}\n",
            "Mean = 0.205833 (std=0.037176) with: {'batch_size': 400, 'dropout_rate': 0.2, 'epochs': 1, 'neurons': 10, 'weight_constraint': 2}\n",
            "Mean = 0.216000 (std=0.024321) with: {'batch_size': 400, 'dropout_rate': 0.2, 'epochs': 1, 'neurons': 10, 'weight_constraint': 3}\n",
            "Mean = 0.408167 (std=0.042664) with: {'batch_size': 400, 'dropout_rate': 0.2, 'epochs': 1, 'neurons': 32, 'weight_constraint': 1}\n",
            "Mean = 0.340167 (std=0.053131) with: {'batch_size': 400, 'dropout_rate': 0.2, 'epochs': 1, 'neurons': 32, 'weight_constraint': 2}\n",
            "Mean = 0.437000 (std=0.041978) with: {'batch_size': 400, 'dropout_rate': 0.2, 'epochs': 1, 'neurons': 32, 'weight_constraint': 3}\n",
            "Mean = 0.590333 (std=0.028964) with: {'batch_size': 400, 'dropout_rate': 0.2, 'epochs': 1, 'neurons': 64, 'weight_constraint': 1}\n",
            "Mean = 0.578667 (std=0.022717) with: {'batch_size': 400, 'dropout_rate': 0.2, 'epochs': 1, 'neurons': 64, 'weight_constraint': 2}\n",
            "Mean = 0.543667 (std=0.044208) with: {'batch_size': 400, 'dropout_rate': 0.2, 'epochs': 1, 'neurons': 64, 'weight_constraint': 3}\n",
            "Mean = 0.524667 (std=0.028523) with: {'batch_size': 400, 'dropout_rate': 0.2, 'epochs': 5, 'neurons': 10, 'weight_constraint': 1}\n",
            "Mean = 0.460500 (std=0.068304) with: {'batch_size': 400, 'dropout_rate': 0.2, 'epochs': 5, 'neurons': 10, 'weight_constraint': 2}\n",
            "Mean = 0.377333 (std=0.077335) with: {'batch_size': 400, 'dropout_rate': 0.2, 'epochs': 5, 'neurons': 10, 'weight_constraint': 3}\n",
            "Mean = 0.827833 (std=0.005104) with: {'batch_size': 400, 'dropout_rate': 0.2, 'epochs': 5, 'neurons': 32, 'weight_constraint': 1}\n",
            "Mean = 0.812167 (std=0.011242) with: {'batch_size': 400, 'dropout_rate': 0.2, 'epochs': 5, 'neurons': 32, 'weight_constraint': 2}\n",
            "Mean = 0.814833 (std=0.015173) with: {'batch_size': 400, 'dropout_rate': 0.2, 'epochs': 5, 'neurons': 32, 'weight_constraint': 3}\n",
            "Mean = 0.872000 (std=0.012748) with: {'batch_size': 400, 'dropout_rate': 0.2, 'epochs': 5, 'neurons': 64, 'weight_constraint': 1}\n",
            "Mean = 0.859500 (std=0.007223) with: {'batch_size': 400, 'dropout_rate': 0.2, 'epochs': 5, 'neurons': 64, 'weight_constraint': 2}\n",
            "Mean = 0.864000 (std=0.018833) with: {'batch_size': 400, 'dropout_rate': 0.2, 'epochs': 5, 'neurons': 64, 'weight_constraint': 3}\n",
            "Mean = 0.641000 (std=0.025010) with: {'batch_size': 400, 'dropout_rate': 0.2, 'epochs': 10, 'neurons': 10, 'weight_constraint': 1}\n",
            "Mean = 0.600833 (std=0.035572) with: {'batch_size': 400, 'dropout_rate': 0.2, 'epochs': 10, 'neurons': 10, 'weight_constraint': 2}\n",
            "Mean = 0.651167 (std=0.075611) with: {'batch_size': 400, 'dropout_rate': 0.2, 'epochs': 10, 'neurons': 10, 'weight_constraint': 3}\n",
            "Mean = 0.880667 (std=0.008014) with: {'batch_size': 400, 'dropout_rate': 0.2, 'epochs': 10, 'neurons': 32, 'weight_constraint': 1}\n",
            "Mean = 0.877333 (std=0.012398) with: {'batch_size': 400, 'dropout_rate': 0.2, 'epochs': 10, 'neurons': 32, 'weight_constraint': 2}\n",
            "Mean = 0.878167 (std=0.011242) with: {'batch_size': 400, 'dropout_rate': 0.2, 'epochs': 10, 'neurons': 32, 'weight_constraint': 3}\n",
            "Mean = 0.907333 (std=0.001312) with: {'batch_size': 400, 'dropout_rate': 0.2, 'epochs': 10, 'neurons': 64, 'weight_constraint': 1}\n",
            "Mean = 0.906000 (std=0.000707) with: {'batch_size': 400, 'dropout_rate': 0.2, 'epochs': 10, 'neurons': 64, 'weight_constraint': 2}\n",
            "Mean = 0.905500 (std=0.005523) with: {'batch_size': 400, 'dropout_rate': 0.2, 'epochs': 10, 'neurons': 64, 'weight_constraint': 3}\n",
            "Mean = 0.234000 (std=0.045718) with: {'batch_size': 400, 'dropout_rate': 0.4, 'epochs': 1, 'neurons': 10, 'weight_constraint': 1}\n",
            "Mean = 0.165667 (std=0.031478) with: {'batch_size': 400, 'dropout_rate': 0.4, 'epochs': 1, 'neurons': 10, 'weight_constraint': 2}\n",
            "Mean = 0.163500 (std=0.024519) with: {'batch_size': 400, 'dropout_rate': 0.4, 'epochs': 1, 'neurons': 10, 'weight_constraint': 3}\n",
            "Mean = 0.391667 (std=0.040217) with: {'batch_size': 400, 'dropout_rate': 0.4, 'epochs': 1, 'neurons': 32, 'weight_constraint': 1}\n",
            "Mean = 0.405333 (std=0.064382) with: {'batch_size': 400, 'dropout_rate': 0.4, 'epochs': 1, 'neurons': 32, 'weight_constraint': 2}\n",
            "Mean = 0.302500 (std=0.142157) with: {'batch_size': 400, 'dropout_rate': 0.4, 'epochs': 1, 'neurons': 32, 'weight_constraint': 3}\n",
            "Mean = 0.546333 (std=0.050135) with: {'batch_size': 400, 'dropout_rate': 0.4, 'epochs': 1, 'neurons': 64, 'weight_constraint': 1}\n",
            "Mean = 0.558167 (std=0.024699) with: {'batch_size': 400, 'dropout_rate': 0.4, 'epochs': 1, 'neurons': 64, 'weight_constraint': 2}\n",
            "Mean = 0.544000 (std=0.009092) with: {'batch_size': 400, 'dropout_rate': 0.4, 'epochs': 1, 'neurons': 64, 'weight_constraint': 3}\n",
            "Mean = 0.481667 (std=0.025561) with: {'batch_size': 400, 'dropout_rate': 0.4, 'epochs': 5, 'neurons': 10, 'weight_constraint': 1}\n",
            "Mean = 0.425000 (std=0.094515) with: {'batch_size': 400, 'dropout_rate': 0.4, 'epochs': 5, 'neurons': 10, 'weight_constraint': 2}\n",
            "Mean = 0.326333 (std=0.032461) with: {'batch_size': 400, 'dropout_rate': 0.4, 'epochs': 5, 'neurons': 10, 'weight_constraint': 3}\n",
            "Mean = 0.778833 (std=0.025591) with: {'batch_size': 400, 'dropout_rate': 0.4, 'epochs': 5, 'neurons': 32, 'weight_constraint': 1}\n",
            "Mean = 0.748833 (std=0.034410) with: {'batch_size': 400, 'dropout_rate': 0.4, 'epochs': 5, 'neurons': 32, 'weight_constraint': 2}\n",
            "Mean = 0.788500 (std=0.011518) with: {'batch_size': 400, 'dropout_rate': 0.4, 'epochs': 5, 'neurons': 32, 'weight_constraint': 3}\n",
            "Mean = 0.845833 (std=0.025068) with: {'batch_size': 400, 'dropout_rate': 0.4, 'epochs': 5, 'neurons': 64, 'weight_constraint': 1}\n",
            "Mean = 0.849833 (std=0.016997) with: {'batch_size': 400, 'dropout_rate': 0.4, 'epochs': 5, 'neurons': 64, 'weight_constraint': 2}\n",
            "Mean = 0.850500 (std=0.012049) with: {'batch_size': 400, 'dropout_rate': 0.4, 'epochs': 5, 'neurons': 64, 'weight_constraint': 3}\n",
            "Mean = 0.644667 (std=0.084307) with: {'batch_size': 400, 'dropout_rate': 0.4, 'epochs': 10, 'neurons': 10, 'weight_constraint': 1}\n",
            "Mean = 0.581833 (std=0.044321) with: {'batch_size': 400, 'dropout_rate': 0.4, 'epochs': 10, 'neurons': 10, 'weight_constraint': 2}\n",
            "Mean = 0.598667 (std=0.085600) with: {'batch_size': 400, 'dropout_rate': 0.4, 'epochs': 10, 'neurons': 10, 'weight_constraint': 3}\n",
            "Mean = 0.862333 (std=0.008380) with: {'batch_size': 400, 'dropout_rate': 0.4, 'epochs': 10, 'neurons': 32, 'weight_constraint': 1}\n",
            "Mean = 0.855167 (std=0.019758) with: {'batch_size': 400, 'dropout_rate': 0.4, 'epochs': 10, 'neurons': 32, 'weight_constraint': 2}\n",
            "Mean = 0.863167 (std=0.010036) with: {'batch_size': 400, 'dropout_rate': 0.4, 'epochs': 10, 'neurons': 32, 'weight_constraint': 3}\n",
            "Mean = 0.900333 (std=0.001027) with: {'batch_size': 400, 'dropout_rate': 0.4, 'epochs': 10, 'neurons': 64, 'weight_constraint': 1}\n",
            "Mean = 0.897333 (std=0.006511) with: {'batch_size': 400, 'dropout_rate': 0.4, 'epochs': 10, 'neurons': 64, 'weight_constraint': 2}\n",
            "Mean = 0.897167 (std=0.006737) with: {'batch_size': 400, 'dropout_rate': 0.4, 'epochs': 10, 'neurons': 64, 'weight_constraint': 3}\n"
          ]
        }
      ]
    }
  ]
}