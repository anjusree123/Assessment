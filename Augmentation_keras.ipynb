{
 "cells": [
  {
   "cell_type": "code",
   "execution_count": 1,
   "id": "da6cec99",
   "metadata": {},
   "outputs": [],
   "source": [
    "from keras.preprocessing.image import ImageDataGenerator\n",
    "import tensorflow as tf\n",
    "import cv2\n"
   ]
  },
  {
   "cell_type": "code",
   "execution_count": 2,
   "id": "4e99ae31",
   "metadata": {},
   "outputs": [
    {
     "name": "stdout",
     "output_type": "stream",
     "text": [
      "Requirement already satisfied: scikit-learn in /Library/Frameworks/Python.framework/Versions/3.10/lib/python3.10/site-packages (1.2.2)\n",
      "Requirement already satisfied: numpy>=1.17.3 in /Library/Frameworks/Python.framework/Versions/3.10/lib/python3.10/site-packages (from scikit-learn) (1.23.5)\n",
      "Requirement already satisfied: scipy>=1.3.2 in /Library/Frameworks/Python.framework/Versions/3.10/lib/python3.10/site-packages (from scikit-learn) (1.10.1)\n",
      "Requirement already satisfied: joblib>=1.1.1 in /Library/Frameworks/Python.framework/Versions/3.10/lib/python3.10/site-packages (from scikit-learn) (1.2.0)\n",
      "Requirement already satisfied: threadpoolctl>=2.0.0 in /Library/Frameworks/Python.framework/Versions/3.10/lib/python3.10/site-packages (from scikit-learn) (3.1.0)\n"
     ]
    }
   ],
   "source": [
    "!pip install scikit-learn"
   ]
  },
  {
   "cell_type": "code",
   "execution_count": 3,
   "id": "a59e5226",
   "metadata": {},
   "outputs": [],
   "source": [
    "datagen=ImageDataGenerator(rotation_range=45,width_shift_range=0.2,height_shift_range=0.2,shear_range=0.2,zoom_range=0.2,\n",
    "                          horizontal_flip=True,fill_mode='reflect',cval=125)\n",
    "#fill_mode nearest and reflect, wrap"
   ]
  },
  {
   "cell_type": "code",
   "execution_count": 10,
   "id": "9ea406f6",
   "metadata": {},
   "outputs": [],
   "source": [
    "import cv2\n",
    "img=cv2.imread('/Users/s5284664/Desktop/PAPERS/test_folder/download.jpeg')"
   ]
  },
  {
   "cell_type": "code",
   "execution_count": 11,
   "id": "7f98bfb3",
   "metadata": {},
   "outputs": [],
   "source": [
    "img=img.reshape((1,)+img.shape)"
   ]
  },
  {
   "cell_type": "code",
   "execution_count": 12,
   "id": "79ed786b",
   "metadata": {},
   "outputs": [],
   "source": [
    "i=0\n",
    "for batch in datagen.flow(img,batch_size=16,save_to_dir='/Users/s5284664/Desktop/PAPERS/augment',save_prefix='aug',save_format='png'):\n",
    "    i+=1\n",
    "    if i>20:\n",
    "        break"
   ]
  },
  {
   "cell_type": "code",
   "execution_count": 13,
   "id": "3395c636",
   "metadata": {},
   "outputs": [],
   "source": [
    "import numpy as np\n",
    "import os\n",
    "from PIL import Image"
   ]
  },
  {
   "cell_type": "code",
   "execution_count": 18,
   "id": "4c901fbc",
   "metadata": {},
   "outputs": [],
   "source": [
    "dataset=[]\n",
    "data_folder='/Users/s5284664/Desktop/PAPERS/test_folder'\n",
    "SIZE=128"
   ]
  },
  {
   "cell_type": "code",
   "execution_count": 19,
   "id": "94684e2a",
   "metadata": {},
   "outputs": [],
   "source": [
    "import io\n",
    "from skimage import io"
   ]
  },
  {
   "cell_type": "code",
   "execution_count": 20,
   "id": "5e677c3e",
   "metadata": {},
   "outputs": [],
   "source": [
    "myimages=os.listdir(data_folder)"
   ]
  },
  {
   "cell_type": "code",
   "execution_count": 21,
   "id": "a750af56",
   "metadata": {},
   "outputs": [],
   "source": [
    "for i,image_name in enumerate(myimages):\n",
    "    if(image_name.split('.')[1]=='jpg'):\n",
    "        imge=io.imread(data_folder+image_name)\n",
    "        image=Image.fromarray(image,'RGB')\n",
    "        image=image.resize((SIZE,SIZE))\n",
    "        dataset.append(np.array(image))"
   ]
  },
  {
   "cell_type": "code",
   "execution_count": 22,
   "id": "52e1ae37",
   "metadata": {},
   "outputs": [],
   "source": [
    "x=np.array(dataset)"
   ]
  },
  {
   "cell_type": "code",
   "execution_count": 23,
   "id": "c89264a4",
   "metadata": {},
   "outputs": [],
   "source": [
    "i=0\n",
    "for batch in datagen.flow(img,batch_size=16,save_to_dir='/Users/s5284664/Desktop/PAPERS/augment',save_prefix='aug',save_format='png'):\n",
    "    i+=1\n",
    "    if i>20:\n",
    "        break"
   ]
  },
  {
   "cell_type": "code",
   "execution_count": null,
   "id": "793b59f0",
   "metadata": {},
   "outputs": [],
   "source": [
    "#for \n",
    "i=0\n",
    "for batch in datagen.flow_from_directory(directory='/Users/s5284664/Desktop/PAPERS/test_folder',batch_size=16,\n",
    "                                        target_size=(256,256),color_mode='rgb',save_to_dir='/Users/s5284664/Desktop/PAPERS/augment',save_prefix='aug',save_format='png'):\n",
    "    i+=1\n",
    "    if i>31:\n",
    "        break"
   ]
  }
 ],
 "metadata": {
  "kernelspec": {
   "display_name": "Python 3 (ipykernel)",
   "language": "python",
   "name": "python3"
  },
  "language_info": {
   "codemirror_mode": {
    "name": "ipython",
    "version": 3
   },
   "file_extension": ".py",
   "mimetype": "text/x-python",
   "name": "python",
   "nbconvert_exporter": "python",
   "pygments_lexer": "ipython3",
   "version": "3.10.11"
  }
 },
 "nbformat": 4,
 "nbformat_minor": 5
}
