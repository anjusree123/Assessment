{
  "nbformat": 4,
  "nbformat_minor": 0,
  "metadata": {
    "colab": {
      "provenance": [],
      "authorship_tag": "ABX9TyMWVumbkBPrEGkNqxDo2Sv2",
      "include_colab_link": true
    },
    "kernelspec": {
      "name": "python3",
      "display_name": "Python 3"
    },
    "language_info": {
      "name": "python"
    }
  },
  "cells": [
    {
      "cell_type": "markdown",
      "metadata": {
        "id": "view-in-github",
        "colab_type": "text"
      },
      "source": [
        "<a href=\"https://colab.research.google.com/github/anjusree123/TensorFlow/blob/main/UNet_Architectureipynb.ipynb\" target=\"_parent\"><img src=\"https://colab.research.google.com/assets/colab-badge.svg\" alt=\"Open In Colab\"/></a>"
      ]
    },
    {
      "cell_type": "code",
      "execution_count": 2,
      "metadata": {
        "id": "NpuzzQPXljX8"
      },
      "outputs": [],
      "source": [
        "import tensorflow as tf\n",
        "IMAGE_HEIGHT=128\n",
        "IMAGE_WIDTH=128\n",
        "CHANNELS=3"
      ]
    },
    {
      "cell_type": "code",
      "source": [
        "input=tf.keras.layers.Input((IMAGE_WIDTH,IMAGE_HEIGHT,CHANNELS))\n",
        "s=tf.keras.layers.Lambda(lambda x:x/255)(input)\n",
        "c1=tf.keras.layers.Conv2D(16,(3,3), activation='relu',kernel_initializer='he_normal',padding='same')(s)\n",
        "c1=tf.keras.layers.Dropout(0.1)(c1)\n",
        "c1=tf.keras.layers.Conv2D(16,(3,3), activation='relu',kernel_initializer='he_normal',padding='same')(c1)\n",
        "p1=tf.keras.layers.MaxPooling2D((2,2))(c1)"
      ],
      "metadata": {
        "id": "-S7GO-DmmYxu"
      },
      "execution_count": 5,
      "outputs": []
    },
    {
      "cell_type": "code",
      "source": [
        "c2=tf.keras.layers.Conv2D(32,(3,3), activation='relu',kernel_initializer='he_normal',padding='same')(p1)\n",
        "c2=tf.keras.layers.Dropout(0.1)(c2)\n",
        "c2=tf.keras.layers.Conv2D(32,(3,3), activation='relu',kernel_initializer='he_normal',padding='same')(c2)\n",
        "p2=tf.keras.layers.MaxPooling2D((2,2))(c2)"
      ],
      "metadata": {
        "id": "gt4UWawZq6nL"
      },
      "execution_count": 6,
      "outputs": []
    },
    {
      "cell_type": "code",
      "source": [
        "c3=tf.keras.layers.Conv2D(64,(3,3), activation='relu',kernel_initializer='he_normal',padding='same')(p2)\n",
        "c3=tf.keras.layers.Dropout(0.2)(c3)\n",
        "c3=tf.keras.layers.Conv2D(16,(3,3), activation='relu',kernel_initializer='he_normal',padding='same')(c3)\n",
        "p3=tf.keras.layers.MaxPooling2D((2,2))(c3)"
      ],
      "metadata": {
        "id": "nR44vc2zrO8h"
      },
      "execution_count": 7,
      "outputs": []
    },
    {
      "cell_type": "code",
      "source": [
        "c4=tf.keras.layers.Conv2D(128,(3,3), activation='relu',kernel_initializer='he_normal',padding='same')(p3)\n",
        "c4=tf.keras.layers.Dropout(0.2)(c4)\n",
        "c4=tf.keras.layers.Conv2D(128,(3,3), activation='relu',kernel_initializer='he_normal',padding='same')(c4)\n",
        "p4=tf.keras.layers.MaxPooling2D((2,2))(c4)"
      ],
      "metadata": {
        "id": "UkBVlAz-recZ"
      },
      "execution_count": 8,
      "outputs": []
    },
    {
      "cell_type": "code",
      "source": [
        "c5=tf.keras.layers.Conv2D(256,(3,3), activation='relu',kernel_initializer='he_normal',padding='same')(p4)\n",
        "c5=tf.keras.layers.Dropout(0.1)(c5)\n",
        "c5=tf.keras.layers.Conv2D(256,(3,3), activation='relu',kernel_initializer='he_normal',padding='same')(c5)\n"
      ],
      "metadata": {
        "id": "ZTDlhJC7ruPi"
      },
      "execution_count": 9,
      "outputs": []
    },
    {
      "cell_type": "code",
      "source": [
        "u6=tf.keras.layers.Conv2DTranspose(128,(2,2),strides=(2,2),padding='same')(c5)\n",
        "u6=tf.keras.layers.concatenate([u6,c4])\n",
        "c6=tf.keras.layers.Conv2D(128,(3,3), activation='relu',kernel_initializer='he_normal',padding='same')(u6)\n",
        "c6=tf.keras.layers.Dropout(0.3)(c6)\n",
        "c6=tf.keras.layers.Conv2D(128,(3,3), activation='relu',kernel_initializer='he_normal',padding='same')(c6)\n"
      ],
      "metadata": {
        "id": "I6G_yTvDsITB"
      },
      "execution_count": 10,
      "outputs": []
    },
    {
      "cell_type": "code",
      "source": [
        "u7=tf.keras.layers.Conv2DTranspose(64,(2,2),strides=(2,2),padding='same')(c6)\n",
        "u7=tf.keras.layers.concatenate([u7,c3])\n",
        "c7=tf.keras.layers.Conv2D(64,(3,3), activation='relu',kernel_initializer='he_normal',padding='same')(u7)\n",
        "c7=tf.keras.layers.Dropout(0.1)(c7)\n",
        "c7=tf.keras.layers.Conv2D(64,(3,3), activation='relu',kernel_initializer='he_normal',padding='same')(c7)"
      ],
      "metadata": {
        "id": "iZuc548atqD1"
      },
      "execution_count": 11,
      "outputs": []
    },
    {
      "cell_type": "code",
      "source": [
        "u8=tf.keras.layers.Conv2DTranspose(32,(2,2),strides=(2,2),padding='same')(c7)\n",
        "u8=tf.keras.layers.concatenate([u8,c2])\n",
        "c8=tf.keras.layers.Conv2D(32,(3,3), activation='relu',kernel_initializer='he_normal',padding='same')(u8)\n",
        "c8=tf.keras.layers.Dropout(0.1)(c8)\n",
        "c8=tf.keras.layers.Conv2D(32,(3,3), activation='relu',kernel_initializer='he_normal',padding='same')(c8)"
      ],
      "metadata": {
        "id": "4l4RRMvyuCnn"
      },
      "execution_count": 12,
      "outputs": []
    },
    {
      "cell_type": "code",
      "source": [
        "u9=tf.keras.layers.Conv2DTranspose(16,(2,2),strides=(2,2),padding='same')(c8)\n",
        "u9=tf.keras.layers.concatenate([u9,c1])\n",
        "c9=tf.keras.layers.Conv2D(16,(3,3), activation='relu',kernel_initializer='he_normal',padding='same')(u9)\n",
        "c9=tf.keras.layers.Dropout(0.1)(c9)\n",
        "c9=tf.keras.layers.Conv2D(16,(3,3), activation='relu',kernel_initializer='he_normal',padding='same')(c9)"
      ],
      "metadata": {
        "id": "9H-jAGbguXyz"
      },
      "execution_count": 13,
      "outputs": []
    },
    {
      "cell_type": "code",
      "source": [
        "outputs=tf.keras.layers.Conv2D(1,(1,1), activation='sigmoid')(c9)"
      ],
      "metadata": {
        "id": "szspCOtDus1i"
      },
      "execution_count": 14,
      "outputs": []
    },
    {
      "cell_type": "code",
      "source": [
        "model=tf.keras.Model(inputs=[input],outputs=[outputs])"
      ],
      "metadata": {
        "id": "1K1ysmiCvEaa"
      },
      "execution_count": 17,
      "outputs": []
    },
    {
      "cell_type": "code",
      "source": [
        "model.compile(optimizer='adam',metrics=['accuracy'], loss='binary_crossentropy')"
      ],
      "metadata": {
        "id": "HxL_7yF3vgkh"
      },
      "execution_count": 18,
      "outputs": []
    },
    {
      "cell_type": "code",
      "source": [
        "model.summary()"
      ],
      "metadata": {
        "colab": {
          "base_uri": "https://localhost:8080/"
        },
        "id": "ZT9aazkjv2ko",
        "outputId": "f7137a0d-f72d-4725-a3e7-9e78a0a59819"
      },
      "execution_count": 19,
      "outputs": [
        {
          "output_type": "stream",
          "name": "stdout",
          "text": [
            "Model: \"model\"\n",
            "__________________________________________________________________________________________________\n",
            " Layer (type)                   Output Shape         Param #     Connected to                     \n",
            "==================================================================================================\n",
            " input_3 (InputLayer)           [(None, 128, 128, 3  0           []                               \n",
            "                                )]                                                                \n",
            "                                                                                                  \n",
            " lambda_2 (Lambda)              (None, 128, 128, 3)  0           ['input_3[0][0]']                \n",
            "                                                                                                  \n",
            " conv2d_2 (Conv2D)              (None, 128, 128, 16  448         ['lambda_2[0][0]']               \n",
            "                                )                                                                 \n",
            "                                                                                                  \n",
            " dropout_1 (Dropout)            (None, 128, 128, 16  0           ['conv2d_2[0][0]']               \n",
            "                                )                                                                 \n",
            "                                                                                                  \n",
            " conv2d_3 (Conv2D)              (None, 128, 128, 16  2320        ['dropout_1[0][0]']              \n",
            "                                )                                                                 \n",
            "                                                                                                  \n",
            " max_pooling2d (MaxPooling2D)   (None, 64, 64, 16)   0           ['conv2d_3[0][0]']               \n",
            "                                                                                                  \n",
            " conv2d_4 (Conv2D)              (None, 64, 64, 32)   4640        ['max_pooling2d[0][0]']          \n",
            "                                                                                                  \n",
            " dropout_2 (Dropout)            (None, 64, 64, 32)   0           ['conv2d_4[0][0]']               \n",
            "                                                                                                  \n",
            " conv2d_5 (Conv2D)              (None, 64, 64, 32)   9248        ['dropout_2[0][0]']              \n",
            "                                                                                                  \n",
            " max_pooling2d_1 (MaxPooling2D)  (None, 32, 32, 32)  0           ['conv2d_5[0][0]']               \n",
            "                                                                                                  \n",
            " conv2d_6 (Conv2D)              (None, 32, 32, 64)   18496       ['max_pooling2d_1[0][0]']        \n",
            "                                                                                                  \n",
            " dropout_3 (Dropout)            (None, 32, 32, 64)   0           ['conv2d_6[0][0]']               \n",
            "                                                                                                  \n",
            " conv2d_7 (Conv2D)              (None, 32, 32, 16)   9232        ['dropout_3[0][0]']              \n",
            "                                                                                                  \n",
            " max_pooling2d_2 (MaxPooling2D)  (None, 16, 16, 16)  0           ['conv2d_7[0][0]']               \n",
            "                                                                                                  \n",
            " conv2d_8 (Conv2D)              (None, 16, 16, 128)  18560       ['max_pooling2d_2[0][0]']        \n",
            "                                                                                                  \n",
            " dropout_4 (Dropout)            (None, 16, 16, 128)  0           ['conv2d_8[0][0]']               \n",
            "                                                                                                  \n",
            " conv2d_9 (Conv2D)              (None, 16, 16, 128)  147584      ['dropout_4[0][0]']              \n",
            "                                                                                                  \n",
            " max_pooling2d_3 (MaxPooling2D)  (None, 8, 8, 128)   0           ['conv2d_9[0][0]']               \n",
            "                                                                                                  \n",
            " conv2d_10 (Conv2D)             (None, 8, 8, 256)    295168      ['max_pooling2d_3[0][0]']        \n",
            "                                                                                                  \n",
            " dropout_5 (Dropout)            (None, 8, 8, 256)    0           ['conv2d_10[0][0]']              \n",
            "                                                                                                  \n",
            " conv2d_11 (Conv2D)             (None, 8, 8, 256)    590080      ['dropout_5[0][0]']              \n",
            "                                                                                                  \n",
            " conv2d_transpose (Conv2DTransp  (None, 16, 16, 128)  131200     ['conv2d_11[0][0]']              \n",
            " ose)                                                                                             \n",
            "                                                                                                  \n",
            " concatenate (Concatenate)      (None, 16, 16, 256)  0           ['conv2d_transpose[0][0]',       \n",
            "                                                                  'conv2d_9[0][0]']               \n",
            "                                                                                                  \n",
            " conv2d_12 (Conv2D)             (None, 16, 16, 128)  295040      ['concatenate[0][0]']            \n",
            "                                                                                                  \n",
            " dropout_6 (Dropout)            (None, 16, 16, 128)  0           ['conv2d_12[0][0]']              \n",
            "                                                                                                  \n",
            " conv2d_13 (Conv2D)             (None, 16, 16, 128)  147584      ['dropout_6[0][0]']              \n",
            "                                                                                                  \n",
            " conv2d_transpose_1 (Conv2DTran  (None, 32, 32, 64)  32832       ['conv2d_13[0][0]']              \n",
            " spose)                                                                                           \n",
            "                                                                                                  \n",
            " concatenate_1 (Concatenate)    (None, 32, 32, 80)   0           ['conv2d_transpose_1[0][0]',     \n",
            "                                                                  'conv2d_7[0][0]']               \n",
            "                                                                                                  \n",
            " conv2d_14 (Conv2D)             (None, 32, 32, 64)   46144       ['concatenate_1[0][0]']          \n",
            "                                                                                                  \n",
            " dropout_7 (Dropout)            (None, 32, 32, 64)   0           ['conv2d_14[0][0]']              \n",
            "                                                                                                  \n",
            " conv2d_15 (Conv2D)             (None, 32, 32, 64)   36928       ['dropout_7[0][0]']              \n",
            "                                                                                                  \n",
            " conv2d_transpose_2 (Conv2DTran  (None, 64, 64, 32)  8224        ['conv2d_15[0][0]']              \n",
            " spose)                                                                                           \n",
            "                                                                                                  \n",
            " concatenate_2 (Concatenate)    (None, 64, 64, 64)   0           ['conv2d_transpose_2[0][0]',     \n",
            "                                                                  'conv2d_5[0][0]']               \n",
            "                                                                                                  \n",
            " conv2d_16 (Conv2D)             (None, 64, 64, 32)   18464       ['concatenate_2[0][0]']          \n",
            "                                                                                                  \n",
            " dropout_8 (Dropout)            (None, 64, 64, 32)   0           ['conv2d_16[0][0]']              \n",
            "                                                                                                  \n",
            " conv2d_17 (Conv2D)             (None, 64, 64, 32)   9248        ['dropout_8[0][0]']              \n",
            "                                                                                                  \n",
            " conv2d_transpose_3 (Conv2DTran  (None, 128, 128, 16  2064       ['conv2d_17[0][0]']              \n",
            " spose)                         )                                                                 \n",
            "                                                                                                  \n",
            " concatenate_3 (Concatenate)    (None, 128, 128, 32  0           ['conv2d_transpose_3[0][0]',     \n",
            "                                )                                 'conv2d_3[0][0]']               \n",
            "                                                                                                  \n",
            " conv2d_18 (Conv2D)             (None, 128, 128, 16  4624        ['concatenate_3[0][0]']          \n",
            "                                )                                                                 \n",
            "                                                                                                  \n",
            " dropout_9 (Dropout)            (None, 128, 128, 16  0           ['conv2d_18[0][0]']              \n",
            "                                )                                                                 \n",
            "                                                                                                  \n",
            " conv2d_19 (Conv2D)             (None, 128, 128, 16  2320        ['dropout_9[0][0]']              \n",
            "                                )                                                                 \n",
            "                                                                                                  \n",
            " conv2d_20 (Conv2D)             (None, 128, 128, 1)  17          ['conv2d_19[0][0]']              \n",
            "                                                                                                  \n",
            "==================================================================================================\n",
            "Total params: 1,830,465\n",
            "Trainable params: 1,830,465\n",
            "Non-trainable params: 0\n",
            "__________________________________________________________________________________________________\n"
          ]
        }
      ]
    }
  ]
}